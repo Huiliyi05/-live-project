{
 "cells": [
  {
   "cell_type": "code",
   "execution_count": 7,
   "metadata": {},
   "outputs": [
    {
     "name": "stdout",
     "output_type": "stream",
     "text": [
      "Enter 'quit' when you are finished\n",
      "\n",
      "Please enter your name>>>lll\n",
      "Please enter your student number>>>123\n",
      "\n",
      "Welcome,Lll\n",
      "Do you want to continue? y/n>>>y\n",
      "Please enter your name>>>ccc\n",
      "Please enter your student number>>>456\n",
      "\n",
      "Welcome,Ccc\n",
      "Do you want to continue? y/n>>>y\n",
      "Please enter your name>>>zzz\n",
      "Please enter your student number>>>789\n",
      "\n",
      "Welcome,Zzz\n",
      "Do you want to continue? y/n>>>y\n",
      "Please enter your name>>>www\n",
      "Please enter your student number>>>147\n",
      "\n",
      "Welcome,Www\n",
      "Do you want to continue? y/n>>>n\n"
     ]
    }
   ],
   "source": [
    "# 引入函数库\n",
    "import datetime as dt\n",
    "print(\"Enter 'quit' when you are finished\\n\")\n",
    "filename = 'guest.csv'\n",
    "with open(filename,'a') as file:\n",
    "    file.write('name,id,time'+'\\n')\n",
    "while True:\n",
    "    name = input('Please enter your name>>>')\n",
    "    if name == 'quit':\n",
    "        break\n",
    "    else:\n",
    "        number = input('Please enter your student number>>>')\n",
    "        # 获取当前时间\n",
    "        now_time = dt.datetime.now().strftime('%F %T')\n",
    "        print()\n",
    "        with open(filename,'a') as file:\n",
    "            file.write(name.title()+','+number+',' + now_time+'\\n')#将访客写入的名字改为首字母大写\n",
    "        print('Welcome,'+name.title())\n",
    "        dicision = input('Do you want to continue? y/n>>>')\n",
    "        if dicision == 'n':\n",
    "            break"
   ]
  },
  {
   "cell_type": "code",
   "execution_count": 8,
   "metadata": {},
   "outputs": [],
   "source": [
    "import numpy as np\n",
    "import pandas as pd\n",
    "import warnings\n",
    "warnings.filterwarnings(\"ignore\")\n",
    "import seaborn as sns\n",
    "import matplotlib.pyplot as plt\n",
    "%matplotlib inline\n",
    "from pandas import Series,DataFrame"
   ]
  },
  {
   "cell_type": "code",
   "execution_count": 9,
   "metadata": {},
   "outputs": [
    {
     "data": {
      "text/html": [
       "<div>\n",
       "<style scoped>\n",
       "    .dataframe tbody tr th:only-of-type {\n",
       "        vertical-align: middle;\n",
       "    }\n",
       "\n",
       "    .dataframe tbody tr th {\n",
       "        vertical-align: top;\n",
       "    }\n",
       "\n",
       "    .dataframe thead th {\n",
       "        text-align: right;\n",
       "    }\n",
       "</style>\n",
       "<table border=\"1\" class=\"dataframe\">\n",
       "  <thead>\n",
       "    <tr style=\"text-align: right;\">\n",
       "      <th></th>\n",
       "      <th>name</th>\n",
       "      <th>id</th>\n",
       "      <th>time</th>\n",
       "    </tr>\n",
       "  </thead>\n",
       "  <tbody>\n",
       "    <tr>\n",
       "      <th>0</th>\n",
       "      <td>Lll</td>\n",
       "      <td>123</td>\n",
       "      <td>2020-04-08 16:50:13</td>\n",
       "    </tr>\n",
       "    <tr>\n",
       "      <th>1</th>\n",
       "      <td>Ccc</td>\n",
       "      <td>456</td>\n",
       "      <td>2020-04-08 16:50:16</td>\n",
       "    </tr>\n",
       "    <tr>\n",
       "      <th>2</th>\n",
       "      <td>Zzz</td>\n",
       "      <td>789</td>\n",
       "      <td>2020-04-08 16:50:21</td>\n",
       "    </tr>\n",
       "    <tr>\n",
       "      <th>3</th>\n",
       "      <td>Www</td>\n",
       "      <td>147</td>\n",
       "      <td>2020-04-08 16:50:26</td>\n",
       "    </tr>\n",
       "  </tbody>\n",
       "</table>\n",
       "</div>"
      ],
      "text/plain": [
       "  name   id                 time\n",
       "0  Lll  123  2020-04-08 16:50:13\n",
       "1  Ccc  456  2020-04-08 16:50:16\n",
       "2  Zzz  789  2020-04-08 16:50:21\n",
       "3  Www  147  2020-04-08 16:50:26"
      ]
     },
     "execution_count": 9,
     "metadata": {},
     "output_type": "execute_result"
    }
   ],
   "source": [
    "df=pd.read_csv(\"guest.csv\",sep=',')\n",
    "df.head(5)"
   ]
  },
  {
   "cell_type": "code",
   "execution_count": 10,
   "metadata": {},
   "outputs": [
    {
     "name": "stdout",
     "output_type": "stream",
     "text": [
      "Please enter your id>>>123\n"
     ]
    }
   ],
   "source": [
    "sno = input('Please enter your id>>>')"
   ]
  },
  {
   "cell_type": "code",
   "execution_count": 36,
   "metadata": {},
   "outputs": [
    {
     "data": {
      "text/html": [
       "<div>\n",
       "<style scoped>\n",
       "    .dataframe tbody tr th:only-of-type {\n",
       "        vertical-align: middle;\n",
       "    }\n",
       "\n",
       "    .dataframe tbody tr th {\n",
       "        vertical-align: top;\n",
       "    }\n",
       "\n",
       "    .dataframe thead th {\n",
       "        text-align: right;\n",
       "    }\n",
       "</style>\n",
       "<table border=\"1\" class=\"dataframe\">\n",
       "  <thead>\n",
       "    <tr style=\"text-align: right;\">\n",
       "      <th></th>\n",
       "      <th>name</th>\n",
       "      <th>id</th>\n",
       "      <th>time</th>\n",
       "    </tr>\n",
       "  </thead>\n",
       "  <tbody>\n",
       "    <tr>\n",
       "      <th>0</th>\n",
       "      <td>Lll</td>\n",
       "      <td>123</td>\n",
       "      <td>2020-04-08 16:50:13</td>\n",
       "    </tr>\n",
       "  </tbody>\n",
       "</table>\n",
       "</div>"
      ],
      "text/plain": [
       "  name   id                 time\n",
       "0  Lll  123  2020-04-08 16:50:13"
      ]
     },
     "execution_count": 36,
     "metadata": {},
     "output_type": "execute_result"
    }
   ],
   "source": [
    "sno=int(sno)\n",
    "df[df['id'] == sno]"
   ]
  },
  {
   "cell_type": "code",
   "execution_count": null,
   "metadata": {},
   "outputs": [],
   "source": []
  }
 ],
 "metadata": {
  "kernelspec": {
   "display_name": "Python 3",
   "language": "python",
   "name": "python3"
  },
  "language_info": {
   "codemirror_mode": {
    "name": "ipython",
    "version": 3
   },
   "file_extension": ".py",
   "mimetype": "text/x-python",
   "name": "python",
   "nbconvert_exporter": "python",
   "pygments_lexer": "ipython3",
   "version": "3.7.6"
  }
 },
 "nbformat": 4,
 "nbformat_minor": 4
}

{
 "cells": [
  {
   "cell_type": "code",
   "execution_count": 1,
   "metadata": {
    "scrolled": true
   },
   "outputs": [
    {
     "name": "stdout",
     "output_type": "stream",
     "text": [
      "Enter 'quit' when you are finished\n",
      "\n",
      "Please enter your name>>>lsj\n",
      "Please enter your student number>>>123\n",
      "\n",
      "Welcome,Lsj\n",
      "Do you want to continue? y/n>>>y\n",
      "Please enter your name>>>cxy\n",
      "Please enter your student number>>>234\n",
      "\n",
      "Welcome,Cxy\n",
      "Do you want to continue? y/n>>>y\n",
      "Please enter your name>>>zyl\n",
      "Please enter your student number>>>345\n",
      "\n",
      "Welcome,Zyl\n",
      "Do you want to continue? y/n>>>y\n",
      "Please enter your name>>>wjh\n",
      "Please enter your student number>>>456\n",
      "\n",
      "Welcome,Wjh\n",
      "Do you want to continue? y/n>>>n\n"
     ]
    }
   ],
   "source": [
    "# 引入函数库\n",
    "import datetime as dt\n",
    "print(\"Enter 'quit' when you are finished\\n\")\n",
    "filename = 'guest.csv'\n",
    "with open(filename,'a') as file:\n",
    "    file.write('name,id,enter_time,exit_time'+'\\n')\n",
    "while True:\n",
    "    name = input('Please enter your name>>>')\n",
    "    if name == 'quit':\n",
    "        break\n",
    "    else:\n",
    "        number = input('Please enter your student number>>>')\n",
    "        # 获取当前时间\n",
    "        now_time = dt.datetime.now().strftime('%F %T')\n",
    "        print()\n",
    "        with open(filename,'a') as file:\n",
    "            file.write(name.title()+','+number+',' + now_time+'\\n')#将访客写入的名字改为首字母大写\n",
    "        print('Welcome,'+name.title())\n",
    "        dicision = input('Do you want to continue? y/n>>>')\n",
    "        if dicision == 'n':\n",
    "            break"
   ]
  },
  {
   "cell_type": "code",
   "execution_count": 2,
   "metadata": {},
   "outputs": [],
   "source": [
    "import numpy as np\n",
    "import pandas as pd\n",
    "import warnings\n",
    "warnings.filterwarnings(\"ignore\")\n",
    "import seaborn as sns\n",
    "import matplotlib.pyplot as plt\n",
    "%matplotlib inline\n",
    "from pandas import Series,DataFrame"
   ]
  },
  {
   "cell_type": "code",
   "execution_count": 3,
   "metadata": {},
   "outputs": [
    {
     "data": {
      "text/html": [
       "<div>\n",
       "<style scoped>\n",
       "    .dataframe tbody tr th:only-of-type {\n",
       "        vertical-align: middle;\n",
       "    }\n",
       "\n",
       "    .dataframe tbody tr th {\n",
       "        vertical-align: top;\n",
       "    }\n",
       "\n",
       "    .dataframe thead th {\n",
       "        text-align: right;\n",
       "    }\n",
       "</style>\n",
       "<table border=\"1\" class=\"dataframe\">\n",
       "  <thead>\n",
       "    <tr style=\"text-align: right;\">\n",
       "      <th></th>\n",
       "      <th>name</th>\n",
       "      <th>id</th>\n",
       "      <th>enter_time</th>\n",
       "      <th>exit_time</th>\n",
       "    </tr>\n",
       "  </thead>\n",
       "  <tbody>\n",
       "    <tr>\n",
       "      <th>0</th>\n",
       "      <td>Lsj</td>\n",
       "      <td>123</td>\n",
       "      <td>2020-04-08 17:54:09</td>\n",
       "      <td>NaN</td>\n",
       "    </tr>\n",
       "    <tr>\n",
       "      <th>1</th>\n",
       "      <td>Cxy</td>\n",
       "      <td>234</td>\n",
       "      <td>2020-04-08 17:54:16</td>\n",
       "      <td>NaN</td>\n",
       "    </tr>\n",
       "    <tr>\n",
       "      <th>2</th>\n",
       "      <td>Zyl</td>\n",
       "      <td>345</td>\n",
       "      <td>2020-04-08 17:54:22</td>\n",
       "      <td>NaN</td>\n",
       "    </tr>\n",
       "    <tr>\n",
       "      <th>3</th>\n",
       "      <td>Wjh</td>\n",
       "      <td>456</td>\n",
       "      <td>2020-04-08 17:54:31</td>\n",
       "      <td>NaN</td>\n",
       "    </tr>\n",
       "  </tbody>\n",
       "</table>\n",
       "</div>"
      ],
      "text/plain": [
       "  name   id           enter_time  exit_time\n",
       "0  Lsj  123  2020-04-08 17:54:09        NaN\n",
       "1  Cxy  234  2020-04-08 17:54:16        NaN\n",
       "2  Zyl  345  2020-04-08 17:54:22        NaN\n",
       "3  Wjh  456  2020-04-08 17:54:31        NaN"
      ]
     },
     "execution_count": 3,
     "metadata": {},
     "output_type": "execute_result"
    }
   ],
   "source": [
    "df=pd.read_csv(\"guest.csv\",sep=',')\n",
    "df.head(5)"
   ]
  },
  {
   "cell_type": "code",
   "execution_count": 24,
   "metadata": {},
   "outputs": [],
   "source": [
    "#查询 写入离开时间\n",
    "import datetime as dt\n",
    "def search(df):\n",
    "    leave_time = dt.datetime.now().strftime('%F %T')# 获取当前时间\n",
    "    sno = input('Please enter your id>>>')\n",
    "    sno = int(sno)\n",
    "    df.loc[df['id']==sno,'exit_time']=leave_time"
   ]
  },
  {
   "cell_type": "code",
   "execution_count": 25,
   "metadata": {},
   "outputs": [
    {
     "name": "stdout",
     "output_type": "stream",
     "text": [
      "Please enter your id>>>123\n"
     ]
    }
   ],
   "source": [
    "search(df)"
   ]
  },
  {
   "cell_type": "code",
   "execution_count": 26,
   "metadata": {},
   "outputs": [
    {
     "data": {
      "text/html": [
       "<div>\n",
       "<style scoped>\n",
       "    .dataframe tbody tr th:only-of-type {\n",
       "        vertical-align: middle;\n",
       "    }\n",
       "\n",
       "    .dataframe tbody tr th {\n",
       "        vertical-align: top;\n",
       "    }\n",
       "\n",
       "    .dataframe thead th {\n",
       "        text-align: right;\n",
       "    }\n",
       "</style>\n",
       "<table border=\"1\" class=\"dataframe\">\n",
       "  <thead>\n",
       "    <tr style=\"text-align: right;\">\n",
       "      <th></th>\n",
       "      <th>name</th>\n",
       "      <th>id</th>\n",
       "      <th>enter_time</th>\n",
       "      <th>exit_time</th>\n",
       "    </tr>\n",
       "  </thead>\n",
       "  <tbody>\n",
       "    <tr>\n",
       "      <th>0</th>\n",
       "      <td>Lsj</td>\n",
       "      <td>123</td>\n",
       "      <td>2020-04-08 17:54:09</td>\n",
       "      <td>2020-04-08 18:33:30</td>\n",
       "    </tr>\n",
       "    <tr>\n",
       "      <th>1</th>\n",
       "      <td>Cxy</td>\n",
       "      <td>234</td>\n",
       "      <td>2020-04-08 17:54:16</td>\n",
       "      <td>NaN</td>\n",
       "    </tr>\n",
       "    <tr>\n",
       "      <th>2</th>\n",
       "      <td>Zyl</td>\n",
       "      <td>345</td>\n",
       "      <td>2020-04-08 17:54:22</td>\n",
       "      <td>NaN</td>\n",
       "    </tr>\n",
       "    <tr>\n",
       "      <th>3</th>\n",
       "      <td>Wjh</td>\n",
       "      <td>456</td>\n",
       "      <td>2020-04-08 17:54:31</td>\n",
       "      <td>NaN</td>\n",
       "    </tr>\n",
       "  </tbody>\n",
       "</table>\n",
       "</div>"
      ],
      "text/plain": [
       "  name   id           enter_time            exit_time\n",
       "0  Lsj  123  2020-04-08 17:54:09  2020-04-08 18:33:30\n",
       "1  Cxy  234  2020-04-08 17:54:16                  NaN\n",
       "2  Zyl  345  2020-04-08 17:54:22                  NaN\n",
       "3  Wjh  456  2020-04-08 17:54:31                  NaN"
      ]
     },
     "execution_count": 26,
     "metadata": {},
     "output_type": "execute_result"
    }
   ],
   "source": [
    "df"
   ]
  },
  {
   "cell_type": "code",
   "execution_count": 36,
   "metadata": {},
   "outputs": [],
   "source": [
    "def add(df):\n",
    "    name = input('Please enter your name>>>')\n",
    "    sno = input('Please enter your student number>>>')\n",
    "    now_time = dt.datetime.now().strftime('%F %T')\n",
    "    i=df.shape[0]\n",
    "    df.loc[i,'name']=name\n",
    "    df.loc[i,'id']=sno\n",
    "    sno=int(sno)\n",
    "    df.loc[i,'enter_time']=now_time"
   ]
  },
  {
   "cell_type": "code",
   "execution_count": 37,
   "metadata": {},
   "outputs": [
    {
     "name": "stdout",
     "output_type": "stream",
     "text": [
      "Please enter your name>>>qaq\n",
      "Please enter your student number>>>56777\n"
     ]
    }
   ],
   "source": [
    "add(df)"
   ]
  },
  {
   "cell_type": "code",
   "execution_count": 41,
   "metadata": {},
   "outputs": [
    {
     "data": {
      "text/html": [
       "<div>\n",
       "<style scoped>\n",
       "    .dataframe tbody tr th:only-of-type {\n",
       "        vertical-align: middle;\n",
       "    }\n",
       "\n",
       "    .dataframe tbody tr th {\n",
       "        vertical-align: top;\n",
       "    }\n",
       "\n",
       "    .dataframe thead th {\n",
       "        text-align: right;\n",
       "    }\n",
       "</style>\n",
       "<table border=\"1\" class=\"dataframe\">\n",
       "  <thead>\n",
       "    <tr style=\"text-align: right;\">\n",
       "      <th></th>\n",
       "      <th>name</th>\n",
       "      <th>id</th>\n",
       "      <th>enter_time</th>\n",
       "      <th>exit_time</th>\n",
       "    </tr>\n",
       "  </thead>\n",
       "  <tbody>\n",
       "    <tr>\n",
       "      <th>0</th>\n",
       "      <td>Lsj</td>\n",
       "      <td>123</td>\n",
       "      <td>2020-04-08 17:54:09</td>\n",
       "      <td>2020-04-08 18:33:30</td>\n",
       "    </tr>\n",
       "    <tr>\n",
       "      <th>1</th>\n",
       "      <td>Cxy</td>\n",
       "      <td>234</td>\n",
       "      <td>2020-04-08 17:54:16</td>\n",
       "      <td>NaN</td>\n",
       "    </tr>\n",
       "    <tr>\n",
       "      <th>2</th>\n",
       "      <td>Zyl</td>\n",
       "      <td>345</td>\n",
       "      <td>2020-04-08 17:54:22</td>\n",
       "      <td>NaN</td>\n",
       "    </tr>\n",
       "    <tr>\n",
       "      <th>3</th>\n",
       "      <td>Wjh</td>\n",
       "      <td>456</td>\n",
       "      <td>2020-04-08 17:54:31</td>\n",
       "      <td>NaN</td>\n",
       "    </tr>\n",
       "    <tr>\n",
       "      <th>4</th>\n",
       "      <td>qwq</td>\n",
       "      <td>123</td>\n",
       "      <td>2020-04-08 18:43:15</td>\n",
       "      <td>NaN</td>\n",
       "    </tr>\n",
       "    <tr>\n",
       "      <th>6</th>\n",
       "      <td>qaq</td>\n",
       "      <td>56777</td>\n",
       "      <td>2020-04-08 18:44:38</td>\n",
       "      <td>NaN</td>\n",
       "    </tr>\n",
       "  </tbody>\n",
       "</table>\n",
       "</div>"
      ],
      "text/plain": [
       "  name     id           enter_time            exit_time\n",
       "0  Lsj    123  2020-04-08 17:54:09  2020-04-08 18:33:30\n",
       "1  Cxy    234  2020-04-08 17:54:16                  NaN\n",
       "2  Zyl    345  2020-04-08 17:54:22                  NaN\n",
       "3  Wjh    456  2020-04-08 17:54:31                  NaN\n",
       "4  qwq    123  2020-04-08 18:43:15                  NaN\n",
       "6  qaq  56777  2020-04-08 18:44:38                  NaN"
      ]
     },
     "execution_count": 41,
     "metadata": {},
     "output_type": "execute_result"
    }
   ],
   "source": [
    "df"
   ]
  },
  {
   "cell_type": "code",
   "execution_count": 42,
   "metadata": {},
   "outputs": [],
   "source": [
    "#存入文档\n",
    "df.to_csv('guest.csv',index=False)"
   ]
  },
  {
   "cell_type": "code",
   "execution_count": null,
   "metadata": {},
   "outputs": [],
   "source": []
  }
 ],
 "metadata": {
  "kernelspec": {
   "display_name": "Python 3",
   "language": "python",
   "name": "python3"
  },
  "language_info": {
   "codemirror_mode": {
    "name": "ipython",
    "version": 3
   },
   "file_extension": ".py",
   "mimetype": "text/x-python",
   "name": "python",
   "nbconvert_exporter": "python",
   "pygments_lexer": "ipython3",
   "version": "3.7.6"
  }
 },
 "nbformat": 4,
 "nbformat_minor": 4
}

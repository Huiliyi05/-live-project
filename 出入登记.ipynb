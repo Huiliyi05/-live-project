{
 "cells": [
  {
   "cell_type": "code",
   "execution_count": 6,
   "metadata": {},
   "outputs": [
    {
     "name": "stdout",
     "output_type": "stream",
     "text": [
      "Enter 'quit' when you are finished\n",
      "\n",
      "Please enter your name>>>cxy\n",
      "Please enter your sno>>>729\n",
      "Welcome,Cxy\n",
      "Do you want to continue? y/n>>>y\n",
      "Please enter your name>>>lsj\n",
      "Please enter your sno>>>225\n",
      "Welcome,Lsj\n",
      "Do you want to continue? y/n>>>y\n",
      "Please enter your name>>>cxk\n",
      "Please enter your sno>>>802\n",
      "Welcome,Cxk\n",
      "Do you want to continue? y/n>>>n\n"
     ]
    }
   ],
   "source": [
    "import datetime as dt\n",
    "print(\"Enter 'quit' when you are finished\\n\")\n",
    "filename = 'guest.csv'\n",
    "with open(filename,'a') as file:\n",
    "    file.write('name,sno,enter_time,exit_time'+'\\n')\n",
    "while True:\n",
    "    name = input('Please enter your name>>>')\n",
    "    if name == 'quit':\n",
    "        break\n",
    "    else:\n",
    "        sno = input('Please enter your sno>>>')\n",
    "        enter_time = dt.datetime.now().strftime('%F %T')\n",
    "        with open(filename,'a') as file:\n",
    "            file.write(name.title()+','+sno+','+enter_time+'\\n')#将访客写入的名字改为首字母大写\n",
    "        print('Welcome,'+name.title())\n",
    "        dicision = input('Do you want to continue? y/n>>>')\n",
    "        if dicision == 'n':\n",
    "            break"
   ]
  },
  {
   "cell_type": "code",
   "execution_count": 16,
   "metadata": {},
   "outputs": [],
   "source": [
    "import numpy as np\n",
    "import pandas as pd\n",
    "import warnings\n",
    "warnings.filterwarnings(\"ignore\")\n",
    "import seaborn as sns\n",
    "import matplotlib.pyplot as plt\n",
    "%matplotlib inline"
   ]
  },
  {
   "cell_type": "code",
   "execution_count": 17,
   "metadata": {},
   "outputs": [
    {
     "data": {
      "text/html": [
       "<div>\n",
       "<style scoped>\n",
       "    .dataframe tbody tr th:only-of-type {\n",
       "        vertical-align: middle;\n",
       "    }\n",
       "\n",
       "    .dataframe tbody tr th {\n",
       "        vertical-align: top;\n",
       "    }\n",
       "\n",
       "    .dataframe thead th {\n",
       "        text-align: right;\n",
       "    }\n",
       "</style>\n",
       "<table border=\"1\" class=\"dataframe\">\n",
       "  <thead>\n",
       "    <tr style=\"text-align: right;\">\n",
       "      <th></th>\n",
       "      <th>name</th>\n",
       "      <th>sno</th>\n",
       "      <th>enter_time</th>\n",
       "      <th>exit_time</th>\n",
       "    </tr>\n",
       "  </thead>\n",
       "  <tbody>\n",
       "    <tr>\n",
       "      <th>0</th>\n",
       "      <td>Cxy</td>\n",
       "      <td>729</td>\n",
       "      <td>2020-04-08 20:34:51</td>\n",
       "      <td>NaN</td>\n",
       "    </tr>\n",
       "    <tr>\n",
       "      <th>1</th>\n",
       "      <td>Lsj</td>\n",
       "      <td>225</td>\n",
       "      <td>2020-04-08 20:34:57</td>\n",
       "      <td>NaN</td>\n",
       "    </tr>\n",
       "    <tr>\n",
       "      <th>2</th>\n",
       "      <td>Cxk</td>\n",
       "      <td>802</td>\n",
       "      <td>2020-04-08 20:35:03</td>\n",
       "      <td>NaN</td>\n",
       "    </tr>\n",
       "  </tbody>\n",
       "</table>\n",
       "</div>"
      ],
      "text/plain": [
       "  name  sno           enter_time  exit_time\n",
       "0  Cxy  729  2020-04-08 20:34:51        NaN\n",
       "1  Lsj  225  2020-04-08 20:34:57        NaN\n",
       "2  Cxk  802  2020-04-08 20:35:03        NaN"
      ]
     },
     "execution_count": 17,
     "metadata": {},
     "output_type": "execute_result"
    }
   ],
   "source": [
    "df=pd.read_csv(\"guest.csv\",sep=',')\n",
    "df"
   ]
  },
  {
   "cell_type": "code",
   "execution_count": 18,
   "metadata": {},
   "outputs": [],
   "source": [
    "import datetime as dt\n",
    "def search(df):\n",
    "    exit_time = dt.datetime.now().strftime('%F %T')\n",
    "    sno = input('Please enter your sno>>>')\n",
    "    sno = int(sno)\n",
    "    df.loc[df['sno']==sno,'exit_time']=exit_time"
   ]
  },
  {
   "cell_type": "code",
   "execution_count": 19,
   "metadata": {},
   "outputs": [
    {
     "name": "stdout",
     "output_type": "stream",
     "text": [
      "Please enter your sno>>>225\n"
     ]
    }
   ],
   "source": [
    "search(df)"
   ]
  },
  {
   "cell_type": "code",
   "execution_count": 20,
   "metadata": {},
   "outputs": [
    {
     "data": {
      "text/html": [
       "<div>\n",
       "<style scoped>\n",
       "    .dataframe tbody tr th:only-of-type {\n",
       "        vertical-align: middle;\n",
       "    }\n",
       "\n",
       "    .dataframe tbody tr th {\n",
       "        vertical-align: top;\n",
       "    }\n",
       "\n",
       "    .dataframe thead th {\n",
       "        text-align: right;\n",
       "    }\n",
       "</style>\n",
       "<table border=\"1\" class=\"dataframe\">\n",
       "  <thead>\n",
       "    <tr style=\"text-align: right;\">\n",
       "      <th></th>\n",
       "      <th>name</th>\n",
       "      <th>sno</th>\n",
       "      <th>enter_time</th>\n",
       "      <th>exit_time</th>\n",
       "    </tr>\n",
       "  </thead>\n",
       "  <tbody>\n",
       "    <tr>\n",
       "      <th>0</th>\n",
       "      <td>Cxy</td>\n",
       "      <td>729</td>\n",
       "      <td>2020-04-08 20:34:51</td>\n",
       "      <td>NaN</td>\n",
       "    </tr>\n",
       "    <tr>\n",
       "      <th>1</th>\n",
       "      <td>Lsj</td>\n",
       "      <td>225</td>\n",
       "      <td>2020-04-08 20:34:57</td>\n",
       "      <td>2020-04-08 20:41:29</td>\n",
       "    </tr>\n",
       "    <tr>\n",
       "      <th>2</th>\n",
       "      <td>Cxk</td>\n",
       "      <td>802</td>\n",
       "      <td>2020-04-08 20:35:03</td>\n",
       "      <td>NaN</td>\n",
       "    </tr>\n",
       "  </tbody>\n",
       "</table>\n",
       "</div>"
      ],
      "text/plain": [
       "  name  sno           enter_time            exit_time\n",
       "0  Cxy  729  2020-04-08 20:34:51                  NaN\n",
       "1  Lsj  225  2020-04-08 20:34:57  2020-04-08 20:41:29\n",
       "2  Cxk  802  2020-04-08 20:35:03                  NaN"
      ]
     },
     "execution_count": 20,
     "metadata": {},
     "output_type": "execute_result"
    }
   ],
   "source": [
    "df"
   ]
  },
  {
   "cell_type": "code",
   "execution_count": null,
   "metadata": {},
   "outputs": [],
   "source": []
  }
 ],
 "metadata": {
  "kernelspec": {
   "display_name": "Python 3",
   "language": "python",
   "name": "python3"
  },
  "language_info": {
   "codemirror_mode": {
    "name": "ipython",
    "version": 3
   },
   "file_extension": ".py",
   "mimetype": "text/x-python",
   "name": "python",
   "nbconvert_exporter": "python",
   "pygments_lexer": "ipython3",
   "version": "3.7.6"
  }
 },
 "nbformat": 4,
 "nbformat_minor": 4
}

{
 "cells": [
  {
   "cell_type": "code",
   "execution_count": 1,
   "metadata": {
    "scrolled": true
   },
   "outputs": [
    {
     "name": "stdout",
     "output_type": "stream",
     "text": [
      "Enter 'quit' when you are finished\n",
      "\n",
      "Please enter your name>>>lsj\n",
      "Please enter your student number>>>6179\n",
      "\n",
      "Welcome,Lsj\n",
      "Do you want to continue? y/n>>>y\n",
      "Please enter your name>>>cxy\n",
      "Please enter your student number>>>6106\n",
      "\n",
      "Welcome,Cxy\n",
      "Do you want to continue? y/n>>>y\n",
      "Please enter your name>>>zyl\n",
      "Please enter your student number>>>6159\n",
      "\n",
      "Welcome,Zyl\n",
      "Do you want to continue? y/n>>>y\n",
      "Please enter your name>>>wjh\n",
      "Please enter your student number>>>6204\n",
      "\n",
      "Welcome,Wjh\n",
      "Do you want to continue? y/n>>>n\n"
     ]
    }
   ],
   "source": [
    "# 引入函数库\n",
    "import datetime as dt\n",
    "print(\"Enter 'quit' when you are finished\\n\")\n",
    "filename = 'guest.csv'\n",
    "with open(filename,'a') as file:\n",
    "    file.write('name,id,enter_time,exit_time'+'\\n')\n",
    "while True:\n",
    "    name = input('Please enter your name>>>')\n",
    "    if name == 'quit':\n",
    "        break\n",
    "    else:\n",
    "        number = input('Please enter your student number>>>')\n",
    "        # 获取当前时间\n",
    "        now_time = dt.datetime.now().strftime('%F %T')\n",
    "        print()\n",
    "        with open(filename,'a') as file:\n",
    "            file.write(name.title()+','+number+',' + now_time+'\\n')#将访客写入的名字改为首字母大写\n",
    "        print('Welcome,'+name.title())\n",
    "        dicision = input('Do you want to continue? y/n>>>')\n",
    "        if dicision == 'n':\n",
    "            break"
   ]
  },
  {
   "cell_type": "code",
   "execution_count": 2,
   "metadata": {},
   "outputs": [],
   "source": [
    "import numpy as np\n",
    "import pandas as pd\n",
    "import warnings\n",
    "warnings.filterwarnings(\"ignore\")\n",
    "import seaborn as sns\n",
    "import matplotlib.pyplot as plt\n",
    "%matplotlib inline\n",
    "from pandas import Series,DataFrame"
   ]
  },
  {
   "cell_type": "code",
   "execution_count": 3,
   "metadata": {},
   "outputs": [
    {
     "data": {
      "text/html": [
       "<div>\n",
       "<style scoped>\n",
       "    .dataframe tbody tr th:only-of-type {\n",
       "        vertical-align: middle;\n",
       "    }\n",
       "\n",
       "    .dataframe tbody tr th {\n",
       "        vertical-align: top;\n",
       "    }\n",
       "\n",
       "    .dataframe thead th {\n",
       "        text-align: right;\n",
       "    }\n",
       "</style>\n",
       "<table border=\"1\" class=\"dataframe\">\n",
       "  <thead>\n",
       "    <tr style=\"text-align: right;\">\n",
       "      <th></th>\n",
       "      <th>name</th>\n",
       "      <th>id</th>\n",
       "      <th>enter_time</th>\n",
       "      <th>exit_time</th>\n",
       "    </tr>\n",
       "  </thead>\n",
       "  <tbody>\n",
       "    <tr>\n",
       "      <th>0</th>\n",
       "      <td>Lsj</td>\n",
       "      <td>6179</td>\n",
       "      <td>2020-04-08 22:33:26</td>\n",
       "      <td>NaN</td>\n",
       "    </tr>\n",
       "    <tr>\n",
       "      <th>1</th>\n",
       "      <td>Cxy</td>\n",
       "      <td>6106</td>\n",
       "      <td>2020-04-08 22:33:33</td>\n",
       "      <td>NaN</td>\n",
       "    </tr>\n",
       "    <tr>\n",
       "      <th>2</th>\n",
       "      <td>Zyl</td>\n",
       "      <td>6159</td>\n",
       "      <td>2020-04-08 22:33:42</td>\n",
       "      <td>NaN</td>\n",
       "    </tr>\n",
       "    <tr>\n",
       "      <th>3</th>\n",
       "      <td>Wjh</td>\n",
       "      <td>6204</td>\n",
       "      <td>2020-04-08 22:33:49</td>\n",
       "      <td>NaN</td>\n",
       "    </tr>\n",
       "  </tbody>\n",
       "</table>\n",
       "</div>"
      ],
      "text/plain": [
       "  name    id           enter_time  exit_time\n",
       "0  Lsj  6179  2020-04-08 22:33:26        NaN\n",
       "1  Cxy  6106  2020-04-08 22:33:33        NaN\n",
       "2  Zyl  6159  2020-04-08 22:33:42        NaN\n",
       "3  Wjh  6204  2020-04-08 22:33:49        NaN"
      ]
     },
     "execution_count": 3,
     "metadata": {},
     "output_type": "execute_result"
    }
   ],
   "source": [
    "df=pd.read_csv(\"guest.csv\",sep=',')\n",
    "df.head(5)"
   ]
  },
  {
   "cell_type": "code",
   "execution_count": 4,
   "metadata": {},
   "outputs": [],
   "source": [
    "#查询 写入离开时间\n",
    "import datetime as dt\n",
    "def search(df):\n",
    "    leave_time = dt.datetime.now().strftime('%F %T')# 获取当前时间\n",
    "    sno = input('Please enter your id>>>')\n",
    "    sno = int(sno)\n",
    "    df.loc[df['id']==sno,'exit_time']=leave_time"
   ]
  },
  {
   "cell_type": "code",
   "execution_count": 5,
   "metadata": {},
   "outputs": [
    {
     "name": "stdout",
     "output_type": "stream",
     "text": [
      "Please enter your id>>>6106\n"
     ]
    }
   ],
   "source": [
    "search(df)"
   ]
  },
  {
   "cell_type": "code",
   "execution_count": 6,
   "metadata": {},
   "outputs": [
    {
     "data": {
      "text/html": [
       "<div>\n",
       "<style scoped>\n",
       "    .dataframe tbody tr th:only-of-type {\n",
       "        vertical-align: middle;\n",
       "    }\n",
       "\n",
       "    .dataframe tbody tr th {\n",
       "        vertical-align: top;\n",
       "    }\n",
       "\n",
       "    .dataframe thead th {\n",
       "        text-align: right;\n",
       "    }\n",
       "</style>\n",
       "<table border=\"1\" class=\"dataframe\">\n",
       "  <thead>\n",
       "    <tr style=\"text-align: right;\">\n",
       "      <th></th>\n",
       "      <th>name</th>\n",
       "      <th>id</th>\n",
       "      <th>enter_time</th>\n",
       "      <th>exit_time</th>\n",
       "    </tr>\n",
       "  </thead>\n",
       "  <tbody>\n",
       "    <tr>\n",
       "      <th>0</th>\n",
       "      <td>Lsj</td>\n",
       "      <td>6179</td>\n",
       "      <td>2020-04-08 22:33:26</td>\n",
       "      <td>NaN</td>\n",
       "    </tr>\n",
       "    <tr>\n",
       "      <th>1</th>\n",
       "      <td>Cxy</td>\n",
       "      <td>6106</td>\n",
       "      <td>2020-04-08 22:33:33</td>\n",
       "      <td>2020-04-08 22:34:04</td>\n",
       "    </tr>\n",
       "    <tr>\n",
       "      <th>2</th>\n",
       "      <td>Zyl</td>\n",
       "      <td>6159</td>\n",
       "      <td>2020-04-08 22:33:42</td>\n",
       "      <td>NaN</td>\n",
       "    </tr>\n",
       "    <tr>\n",
       "      <th>3</th>\n",
       "      <td>Wjh</td>\n",
       "      <td>6204</td>\n",
       "      <td>2020-04-08 22:33:49</td>\n",
       "      <td>NaN</td>\n",
       "    </tr>\n",
       "  </tbody>\n",
       "</table>\n",
       "</div>"
      ],
      "text/plain": [
       "  name    id           enter_time            exit_time\n",
       "0  Lsj  6179  2020-04-08 22:33:26                  NaN\n",
       "1  Cxy  6106  2020-04-08 22:33:33  2020-04-08 22:34:04\n",
       "2  Zyl  6159  2020-04-08 22:33:42                  NaN\n",
       "3  Wjh  6204  2020-04-08 22:33:49                  NaN"
      ]
     },
     "execution_count": 6,
     "metadata": {},
     "output_type": "execute_result"
    }
   ],
   "source": [
    "df"
   ]
  },
  {
   "cell_type": "code",
   "execution_count": 9,
   "metadata": {},
   "outputs": [],
   "source": [
    "def add(df):\n",
    "    name = input('Please enter your name>>>')\n",
    "    sno = input('Please enter your student number>>>')\n",
    "    now_time = dt.datetime.now().strftime('%F %T')\n",
    "    i=df.shape[0]\n",
    "    df.loc[i,'name']=name.title()\n",
    "    df.loc[i,'id']=sno\n",
    "    sno=int(sno)\n",
    "    df.loc[i,'enter_time']=now_time"
   ]
  },
  {
   "cell_type": "code",
   "execution_count": 10,
   "metadata": {},
   "outputs": [
    {
     "name": "stdout",
     "output_type": "stream",
     "text": [
      "Please enter your name>>>lx\n",
      "Please enter your student number>>>1019\n"
     ]
    }
   ],
   "source": [
    "add(df)"
   ]
  },
  {
   "cell_type": "code",
   "execution_count": 11,
   "metadata": {
    "scrolled": true
   },
   "outputs": [
    {
     "data": {
      "text/html": [
       "<div>\n",
       "<style scoped>\n",
       "    .dataframe tbody tr th:only-of-type {\n",
       "        vertical-align: middle;\n",
       "    }\n",
       "\n",
       "    .dataframe tbody tr th {\n",
       "        vertical-align: top;\n",
       "    }\n",
       "\n",
       "    .dataframe thead th {\n",
       "        text-align: right;\n",
       "    }\n",
       "</style>\n",
       "<table border=\"1\" class=\"dataframe\">\n",
       "  <thead>\n",
       "    <tr style=\"text-align: right;\">\n",
       "      <th></th>\n",
       "      <th>name</th>\n",
       "      <th>id</th>\n",
       "      <th>enter_time</th>\n",
       "      <th>exit_time</th>\n",
       "    </tr>\n",
       "  </thead>\n",
       "  <tbody>\n",
       "    <tr>\n",
       "      <th>0</th>\n",
       "      <td>Lsj</td>\n",
       "      <td>6179</td>\n",
       "      <td>2020-04-08 22:33:26</td>\n",
       "      <td>NaN</td>\n",
       "    </tr>\n",
       "    <tr>\n",
       "      <th>1</th>\n",
       "      <td>Cxy</td>\n",
       "      <td>6106</td>\n",
       "      <td>2020-04-08 22:33:33</td>\n",
       "      <td>2020-04-08 22:34:04</td>\n",
       "    </tr>\n",
       "    <tr>\n",
       "      <th>2</th>\n",
       "      <td>Zyl</td>\n",
       "      <td>6159</td>\n",
       "      <td>2020-04-08 22:33:42</td>\n",
       "      <td>NaN</td>\n",
       "    </tr>\n",
       "    <tr>\n",
       "      <th>3</th>\n",
       "      <td>Wjh</td>\n",
       "      <td>6204</td>\n",
       "      <td>2020-04-08 22:33:49</td>\n",
       "      <td>NaN</td>\n",
       "    </tr>\n",
       "    <tr>\n",
       "      <th>4</th>\n",
       "      <td>Lx</td>\n",
       "      <td>1019</td>\n",
       "      <td>2020-04-08 22:34:32</td>\n",
       "      <td>NaN</td>\n",
       "    </tr>\n",
       "  </tbody>\n",
       "</table>\n",
       "</div>"
      ],
      "text/plain": [
       "  name    id           enter_time            exit_time\n",
       "0  Lsj  6179  2020-04-08 22:33:26                  NaN\n",
       "1  Cxy  6106  2020-04-08 22:33:33  2020-04-08 22:34:04\n",
       "2  Zyl  6159  2020-04-08 22:33:42                  NaN\n",
       "3  Wjh  6204  2020-04-08 22:33:49                  NaN\n",
       "4   Lx  1019  2020-04-08 22:34:32                  NaN"
      ]
     },
     "execution_count": 11,
     "metadata": {},
     "output_type": "execute_result"
    }
   ],
   "source": [
    "df"
   ]
  },
  {
   "cell_type": "code",
   "execution_count": 12,
   "metadata": {},
   "outputs": [],
   "source": [
    "def view(df):\n",
    "    df['id']=df['id'].astype(int)\n",
    "    df.sort_values(by='id',ascending=True,inplace=True)"
   ]
  },
  {
   "cell_type": "code",
   "execution_count": 13,
   "metadata": {},
   "outputs": [],
   "source": [
    "view(df)"
   ]
  },
  {
   "cell_type": "code",
   "execution_count": 14,
   "metadata": {},
   "outputs": [
    {
     "data": {
      "text/html": [
       "<div>\n",
       "<style scoped>\n",
       "    .dataframe tbody tr th:only-of-type {\n",
       "        vertical-align: middle;\n",
       "    }\n",
       "\n",
       "    .dataframe tbody tr th {\n",
       "        vertical-align: top;\n",
       "    }\n",
       "\n",
       "    .dataframe thead th {\n",
       "        text-align: right;\n",
       "    }\n",
       "</style>\n",
       "<table border=\"1\" class=\"dataframe\">\n",
       "  <thead>\n",
       "    <tr style=\"text-align: right;\">\n",
       "      <th></th>\n",
       "      <th>name</th>\n",
       "      <th>id</th>\n",
       "      <th>enter_time</th>\n",
       "      <th>exit_time</th>\n",
       "    </tr>\n",
       "  </thead>\n",
       "  <tbody>\n",
       "    <tr>\n",
       "      <th>4</th>\n",
       "      <td>Lx</td>\n",
       "      <td>1019</td>\n",
       "      <td>2020-04-08 22:34:32</td>\n",
       "      <td>NaN</td>\n",
       "    </tr>\n",
       "    <tr>\n",
       "      <th>1</th>\n",
       "      <td>Cxy</td>\n",
       "      <td>6106</td>\n",
       "      <td>2020-04-08 22:33:33</td>\n",
       "      <td>2020-04-08 22:34:04</td>\n",
       "    </tr>\n",
       "    <tr>\n",
       "      <th>2</th>\n",
       "      <td>Zyl</td>\n",
       "      <td>6159</td>\n",
       "      <td>2020-04-08 22:33:42</td>\n",
       "      <td>NaN</td>\n",
       "    </tr>\n",
       "    <tr>\n",
       "      <th>0</th>\n",
       "      <td>Lsj</td>\n",
       "      <td>6179</td>\n",
       "      <td>2020-04-08 22:33:26</td>\n",
       "      <td>NaN</td>\n",
       "    </tr>\n",
       "    <tr>\n",
       "      <th>3</th>\n",
       "      <td>Wjh</td>\n",
       "      <td>6204</td>\n",
       "      <td>2020-04-08 22:33:49</td>\n",
       "      <td>NaN</td>\n",
       "    </tr>\n",
       "  </tbody>\n",
       "</table>\n",
       "</div>"
      ],
      "text/plain": [
       "  name    id           enter_time            exit_time\n",
       "4   Lx  1019  2020-04-08 22:34:32                  NaN\n",
       "1  Cxy  6106  2020-04-08 22:33:33  2020-04-08 22:34:04\n",
       "2  Zyl  6159  2020-04-08 22:33:42                  NaN\n",
       "0  Lsj  6179  2020-04-08 22:33:26                  NaN\n",
       "3  Wjh  6204  2020-04-08 22:33:49                  NaN"
      ]
     },
     "execution_count": 14,
     "metadata": {},
     "output_type": "execute_result"
    }
   ],
   "source": [
    "df"
   ]
  },
  {
   "cell_type": "code",
   "execution_count": 15,
   "metadata": {},
   "outputs": [],
   "source": [
    "#存入文档\n",
    "df.to_csv('guest.csv',index=False)"
   ]
  },
  {
   "cell_type": "code",
   "execution_count": 58,
   "metadata": {},
   "outputs": [],
   "source": [
    "from tkinter import *\n",
    "import tkinter.messagebox\n",
    "import datetime as dt"
   ]
  },
  {
   "cell_type": "code",
   "execution_count": 59,
   "metadata": {},
   "outputs": [],
   "source": [
    "def add(name,sno):\n",
    "    now_time = dt.datetime.now().strftime('%F %T')\n",
    "    i=df.shape[0]\n",
    "    df.loc[i,'name']=name\n",
    "    df.loc[i,'id']=sno\n",
    "    df.loc[i,'enter_time']=now_time\n",
    "    \n",
    "def search(sno):\n",
    "    leave_time = dt.datetime.now().strftime('%F %T')\n",
    "    df.loc[df['id']==sno,'exit_time']=leave_time\n",
    "    \n",
    "def view():\n",
    "    df.sort_values(by='id',ascending=True,inplace=True)"
   ]
  },
  {
   "cell_type": "code",
   "execution_count": 28,
   "metadata": {},
   "outputs": [],
   "source": [
    "view()"
   ]
  },
  {
   "cell_type": "code",
   "execution_count": 68,
   "metadata": {},
   "outputs": [],
   "source": [
    "#GUI\n",
    "root = Tk()\n",
    "Label(root,text = \"姓名:\").grid(row = 0, sticky = W)\n",
    "name=Entry(root).grid(row = 0, column = 1, sticky = E)\n",
    "name\n",
    "\n",
    "Label(root,text = \"学号:\").grid(row = 1, sticky = W)\n",
    "sno=Entry(root).grid(row = 1, column = 1, sticky = E)\n",
    "sno\n",
    "\n",
    "Button(root,text = \"添加\",command = add(name,sno)).grid(row = 2,columnspan=2)\n",
    "tkinter.messagebox.showinfo( \"------\", \"添加成功！\")\n",
    "\n",
    "Button(root,text = \"查询\",command = search(sno)).grid(row = 2,column = 1,sticky = W)\n",
    "\n",
    "Button(root,text = \"显示\",command = view()).grid(row = 2,columnspan = 1)\n",
    "\n",
    "root.mainloop()"
   ]
  },
  {
   "cell_type": "code",
   "execution_count": null,
   "metadata": {},
   "outputs": [],
   "source": []
  }
 ],
 "metadata": {
  "kernelspec": {
   "display_name": "Python 3",
   "language": "python",
   "name": "python3"
  },
  "language_info": {
   "codemirror_mode": {
    "name": "ipython",
    "version": 3
   },
   "file_extension": ".py",
   "mimetype": "text/x-python",
   "name": "python",
   "nbconvert_exporter": "python",
   "pygments_lexer": "ipython3",
   "version": "3.7.6"
  }
 },
 "nbformat": 4,
 "nbformat_minor": 4
}

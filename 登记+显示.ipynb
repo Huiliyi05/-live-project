{
 "cells": [
  {
   "cell_type": "code",
   "execution_count": 5,
   "metadata": {
    "scrolled": true
   },
   "outputs": [
    {
     "name": "stdout",
     "output_type": "stream",
     "text": [
      "Enter 'quit' when you are finished\n",
      "\n",
      "Please enter your name>>>lsj\n",
      "Please enter your student number>>>6179\n",
      "\n",
      "Welcome,Lsj\n",
      "Do you want to continue? y/n>>>y\n",
      "Please enter your name>>>cxy\n",
      "Please enter your student number>>>6106\n",
      "\n",
      "Welcome,Cxy\n",
      "Do you want to continue? y/n>>>y\n",
      "Please enter your name>>>zyl\n",
      "Please enter your student number>>>6159\n",
      "\n",
      "Welcome,Zyl\n",
      "Do you want to continue? y/n>>>y\n",
      "Please enter your name>>>wjh\n",
      "Please enter your student number>>>6204\n",
      "\n",
      "Welcome,Wjh\n",
      "Do you want to continue? y/n>>>n\n"
     ]
    }
   ],
   "source": [
    "# 引入函数库\n",
    "import datetime as dt\n",
    "print(\"Enter 'quit' when you are finished\\n\")\n",
    "filename = 'guest.csv'\n",
    "with open(filename,'a') as file:\n",
    "    file.write('name,id,enter_time,exit_time'+'\\n')\n",
    "while True:\n",
    "    name = input('Please enter your name>>>')\n",
    "    if name == 'quit':\n",
    "        break\n",
    "    else:\n",
    "        number = input('Please enter your student number>>>')\n",
    "        # 获取当前时间\n",
    "        now_time = dt.datetime.now().strftime('%F %T')\n",
    "        print()\n",
    "        with open(filename,'a') as file:\n",
    "            file.write(name.title()+','+number+',' + now_time+'\\n')#将访客写入的名字改为首字母大写\n",
    "        print('Welcome,'+name.title())\n",
    "        dicision = input('Do you want to continue? y/n>>>')\n",
    "        if dicision == 'n':\n",
    "            break"
   ]
  },
  {
   "cell_type": "code",
   "execution_count": 6,
   "metadata": {},
   "outputs": [],
   "source": [
    "import numpy as np\n",
    "import pandas as pd\n",
    "import warnings\n",
    "warnings.filterwarnings(\"ignore\")\n",
    "import seaborn as sns\n",
    "import matplotlib.pyplot as plt\n",
    "%matplotlib inline\n",
    "from pandas import Series,DataFrame"
   ]
  },
  {
   "cell_type": "code",
   "execution_count": 7,
   "metadata": {},
   "outputs": [
    {
     "data": {
      "text/html": [
       "<div>\n",
       "<style scoped>\n",
       "    .dataframe tbody tr th:only-of-type {\n",
       "        vertical-align: middle;\n",
       "    }\n",
       "\n",
       "    .dataframe tbody tr th {\n",
       "        vertical-align: top;\n",
       "    }\n",
       "\n",
       "    .dataframe thead th {\n",
       "        text-align: right;\n",
       "    }\n",
       "</style>\n",
       "<table border=\"1\" class=\"dataframe\">\n",
       "  <thead>\n",
       "    <tr style=\"text-align: right;\">\n",
       "      <th></th>\n",
       "      <th>name</th>\n",
       "      <th>id</th>\n",
       "      <th>enter_time</th>\n",
       "      <th>exit_time</th>\n",
       "    </tr>\n",
       "  </thead>\n",
       "  <tbody>\n",
       "    <tr>\n",
       "      <th>0</th>\n",
       "      <td>Lsj</td>\n",
       "      <td>6179</td>\n",
       "      <td>2020-04-08 21:18:46</td>\n",
       "      <td>NaN</td>\n",
       "    </tr>\n",
       "    <tr>\n",
       "      <th>1</th>\n",
       "      <td>Cxy</td>\n",
       "      <td>6106</td>\n",
       "      <td>2020-04-08 21:18:53</td>\n",
       "      <td>NaN</td>\n",
       "    </tr>\n",
       "    <tr>\n",
       "      <th>2</th>\n",
       "      <td>Zyl</td>\n",
       "      <td>6159</td>\n",
       "      <td>2020-04-08 21:19:00</td>\n",
       "      <td>NaN</td>\n",
       "    </tr>\n",
       "    <tr>\n",
       "      <th>3</th>\n",
       "      <td>Wjh</td>\n",
       "      <td>6204</td>\n",
       "      <td>2020-04-08 21:19:09</td>\n",
       "      <td>NaN</td>\n",
       "    </tr>\n",
       "  </tbody>\n",
       "</table>\n",
       "</div>"
      ],
      "text/plain": [
       "  name    id           enter_time  exit_time\n",
       "0  Lsj  6179  2020-04-08 21:18:46        NaN\n",
       "1  Cxy  6106  2020-04-08 21:18:53        NaN\n",
       "2  Zyl  6159  2020-04-08 21:19:00        NaN\n",
       "3  Wjh  6204  2020-04-08 21:19:09        NaN"
      ]
     },
     "execution_count": 7,
     "metadata": {},
     "output_type": "execute_result"
    }
   ],
   "source": [
    "df=pd.read_csv(\"guest.csv\",sep=',')\n",
    "df.head(5)"
   ]
  },
  {
   "cell_type": "code",
   "execution_count": 8,
   "metadata": {},
   "outputs": [],
   "source": [
    "#查询 写入离开时间\n",
    "import datetime as dt\n",
    "def search(df):\n",
    "    leave_time = dt.datetime.now().strftime('%F %T')# 获取当前时间\n",
    "    sno = input('Please enter your id>>>')\n",
    "    sno = int(sno)\n",
    "    df.loc[df['id']==sno,'exit_time']=leave_time"
   ]
  },
  {
   "cell_type": "code",
   "execution_count": 9,
   "metadata": {},
   "outputs": [
    {
     "name": "stdout",
     "output_type": "stream",
     "text": [
      "Please enter your id>>>6106\n"
     ]
    }
   ],
   "source": [
    "search(df)"
   ]
  },
  {
   "cell_type": "code",
   "execution_count": 10,
   "metadata": {},
   "outputs": [
    {
     "data": {
      "text/html": [
       "<div>\n",
       "<style scoped>\n",
       "    .dataframe tbody tr th:only-of-type {\n",
       "        vertical-align: middle;\n",
       "    }\n",
       "\n",
       "    .dataframe tbody tr th {\n",
       "        vertical-align: top;\n",
       "    }\n",
       "\n",
       "    .dataframe thead th {\n",
       "        text-align: right;\n",
       "    }\n",
       "</style>\n",
       "<table border=\"1\" class=\"dataframe\">\n",
       "  <thead>\n",
       "    <tr style=\"text-align: right;\">\n",
       "      <th></th>\n",
       "      <th>name</th>\n",
       "      <th>id</th>\n",
       "      <th>enter_time</th>\n",
       "      <th>exit_time</th>\n",
       "    </tr>\n",
       "  </thead>\n",
       "  <tbody>\n",
       "    <tr>\n",
       "      <th>0</th>\n",
       "      <td>Lsj</td>\n",
       "      <td>6179</td>\n",
       "      <td>2020-04-08 21:18:46</td>\n",
       "      <td>NaN</td>\n",
       "    </tr>\n",
       "    <tr>\n",
       "      <th>1</th>\n",
       "      <td>Cxy</td>\n",
       "      <td>6106</td>\n",
       "      <td>2020-04-08 21:18:53</td>\n",
       "      <td>2020-04-08 21:19:22</td>\n",
       "    </tr>\n",
       "    <tr>\n",
       "      <th>2</th>\n",
       "      <td>Zyl</td>\n",
       "      <td>6159</td>\n",
       "      <td>2020-04-08 21:19:00</td>\n",
       "      <td>NaN</td>\n",
       "    </tr>\n",
       "    <tr>\n",
       "      <th>3</th>\n",
       "      <td>Wjh</td>\n",
       "      <td>6204</td>\n",
       "      <td>2020-04-08 21:19:09</td>\n",
       "      <td>NaN</td>\n",
       "    </tr>\n",
       "  </tbody>\n",
       "</table>\n",
       "</div>"
      ],
      "text/plain": [
       "  name    id           enter_time            exit_time\n",
       "0  Lsj  6179  2020-04-08 21:18:46                  NaN\n",
       "1  Cxy  6106  2020-04-08 21:18:53  2020-04-08 21:19:22\n",
       "2  Zyl  6159  2020-04-08 21:19:00                  NaN\n",
       "3  Wjh  6204  2020-04-08 21:19:09                  NaN"
      ]
     },
     "execution_count": 10,
     "metadata": {},
     "output_type": "execute_result"
    }
   ],
   "source": [
    "df"
   ]
  },
  {
   "cell_type": "code",
   "execution_count": 11,
   "metadata": {},
   "outputs": [],
   "source": [
    "def add(df):\n",
    "    name = input('Please enter your name>>>')\n",
    "    sno = input('Please enter your student number>>>')\n",
    "    now_time = dt.datetime.now().strftime('%F %T')\n",
    "    i=df.shape[0]\n",
    "    df.loc[i,'name']=name.title()\n",
    "    df.loc[i,'id']=sno\n",
    "    sno=int(sno)\n",
    "    df.loc[i,'enter_time']=now_time"
   ]
  },
  {
   "cell_type": "code",
   "execution_count": 12,
   "metadata": {},
   "outputs": [
    {
     "name": "stdout",
     "output_type": "stream",
     "text": [
      "Please enter your name>>>yjn\n",
      "Please enter your student number>>>6213\n"
     ]
    }
   ],
   "source": [
    "add(df)"
   ]
  },
  {
   "cell_type": "code",
   "execution_count": 13,
   "metadata": {
    "scrolled": true
   },
   "outputs": [
    {
     "data": {
      "text/html": [
       "<div>\n",
       "<style scoped>\n",
       "    .dataframe tbody tr th:only-of-type {\n",
       "        vertical-align: middle;\n",
       "    }\n",
       "\n",
       "    .dataframe tbody tr th {\n",
       "        vertical-align: top;\n",
       "    }\n",
       "\n",
       "    .dataframe thead th {\n",
       "        text-align: right;\n",
       "    }\n",
       "</style>\n",
       "<table border=\"1\" class=\"dataframe\">\n",
       "  <thead>\n",
       "    <tr style=\"text-align: right;\">\n",
       "      <th></th>\n",
       "      <th>name</th>\n",
       "      <th>id</th>\n",
       "      <th>enter_time</th>\n",
       "      <th>exit_time</th>\n",
       "    </tr>\n",
       "  </thead>\n",
       "  <tbody>\n",
       "    <tr>\n",
       "      <th>0</th>\n",
       "      <td>Lsj</td>\n",
       "      <td>6179</td>\n",
       "      <td>2020-04-08 21:18:46</td>\n",
       "      <td>NaN</td>\n",
       "    </tr>\n",
       "    <tr>\n",
       "      <th>1</th>\n",
       "      <td>Cxy</td>\n",
       "      <td>6106</td>\n",
       "      <td>2020-04-08 21:18:53</td>\n",
       "      <td>2020-04-08 21:19:22</td>\n",
       "    </tr>\n",
       "    <tr>\n",
       "      <th>2</th>\n",
       "      <td>Zyl</td>\n",
       "      <td>6159</td>\n",
       "      <td>2020-04-08 21:19:00</td>\n",
       "      <td>NaN</td>\n",
       "    </tr>\n",
       "    <tr>\n",
       "      <th>3</th>\n",
       "      <td>Wjh</td>\n",
       "      <td>6204</td>\n",
       "      <td>2020-04-08 21:19:09</td>\n",
       "      <td>NaN</td>\n",
       "    </tr>\n",
       "    <tr>\n",
       "      <th>4</th>\n",
       "      <td>Yjn</td>\n",
       "      <td>6213</td>\n",
       "      <td>2020-04-08 21:20:19</td>\n",
       "      <td>NaN</td>\n",
       "    </tr>\n",
       "  </tbody>\n",
       "</table>\n",
       "</div>"
      ],
      "text/plain": [
       "  name    id           enter_time            exit_time\n",
       "0  Lsj  6179  2020-04-08 21:18:46                  NaN\n",
       "1  Cxy  6106  2020-04-08 21:18:53  2020-04-08 21:19:22\n",
       "2  Zyl  6159  2020-04-08 21:19:00                  NaN\n",
       "3  Wjh  6204  2020-04-08 21:19:09                  NaN\n",
       "4  Yjn  6213  2020-04-08 21:20:19                  NaN"
      ]
     },
     "execution_count": 13,
     "metadata": {},
     "output_type": "execute_result"
    }
   ],
   "source": [
    "df"
   ]
  },
  {
   "cell_type": "code",
   "execution_count": 14,
   "metadata": {},
   "outputs": [],
   "source": [
    "def view(df):\n",
    "    df['id']=df['id'].astype(int)\n",
    "    df.sort_values(by='id',ascending=True,inplace=True)"
   ]
  },
  {
   "cell_type": "code",
   "execution_count": 15,
   "metadata": {},
   "outputs": [],
   "source": [
    "view(df)"
   ]
  },
  {
   "cell_type": "code",
   "execution_count": 16,
   "metadata": {},
   "outputs": [
    {
     "data": {
      "text/html": [
       "<div>\n",
       "<style scoped>\n",
       "    .dataframe tbody tr th:only-of-type {\n",
       "        vertical-align: middle;\n",
       "    }\n",
       "\n",
       "    .dataframe tbody tr th {\n",
       "        vertical-align: top;\n",
       "    }\n",
       "\n",
       "    .dataframe thead th {\n",
       "        text-align: right;\n",
       "    }\n",
       "</style>\n",
       "<table border=\"1\" class=\"dataframe\">\n",
       "  <thead>\n",
       "    <tr style=\"text-align: right;\">\n",
       "      <th></th>\n",
       "      <th>name</th>\n",
       "      <th>id</th>\n",
       "      <th>enter_time</th>\n",
       "      <th>exit_time</th>\n",
       "    </tr>\n",
       "  </thead>\n",
       "  <tbody>\n",
       "    <tr>\n",
       "      <th>1</th>\n",
       "      <td>Cxy</td>\n",
       "      <td>6106</td>\n",
       "      <td>2020-04-08 21:18:53</td>\n",
       "      <td>2020-04-08 21:19:22</td>\n",
       "    </tr>\n",
       "    <tr>\n",
       "      <th>2</th>\n",
       "      <td>Zyl</td>\n",
       "      <td>6159</td>\n",
       "      <td>2020-04-08 21:19:00</td>\n",
       "      <td>NaN</td>\n",
       "    </tr>\n",
       "    <tr>\n",
       "      <th>0</th>\n",
       "      <td>Lsj</td>\n",
       "      <td>6179</td>\n",
       "      <td>2020-04-08 21:18:46</td>\n",
       "      <td>NaN</td>\n",
       "    </tr>\n",
       "    <tr>\n",
       "      <th>3</th>\n",
       "      <td>Wjh</td>\n",
       "      <td>6204</td>\n",
       "      <td>2020-04-08 21:19:09</td>\n",
       "      <td>NaN</td>\n",
       "    </tr>\n",
       "    <tr>\n",
       "      <th>4</th>\n",
       "      <td>Yjn</td>\n",
       "      <td>6213</td>\n",
       "      <td>2020-04-08 21:20:19</td>\n",
       "      <td>NaN</td>\n",
       "    </tr>\n",
       "  </tbody>\n",
       "</table>\n",
       "</div>"
      ],
      "text/plain": [
       "  name    id           enter_time            exit_time\n",
       "1  Cxy  6106  2020-04-08 21:18:53  2020-04-08 21:19:22\n",
       "2  Zyl  6159  2020-04-08 21:19:00                  NaN\n",
       "0  Lsj  6179  2020-04-08 21:18:46                  NaN\n",
       "3  Wjh  6204  2020-04-08 21:19:09                  NaN\n",
       "4  Yjn  6213  2020-04-08 21:20:19                  NaN"
      ]
     },
     "execution_count": 16,
     "metadata": {},
     "output_type": "execute_result"
    }
   ],
   "source": [
    "df"
   ]
  },
  {
   "cell_type": "code",
   "execution_count": 17,
   "metadata": {},
   "outputs": [],
   "source": [
    "#存入文档\n",
    "df.to_csv('guest.csv',index=False)"
   ]
  },
  {
   "cell_type": "code",
   "execution_count": null,
   "metadata": {},
   "outputs": [],
   "source": []
  }
 ],
 "metadata": {
  "kernelspec": {
   "display_name": "Python 3",
   "language": "python",
   "name": "python3"
  },
  "language_info": {
   "codemirror_mode": {
    "name": "ipython",
    "version": 3
   },
   "file_extension": ".py",
   "mimetype": "text/x-python",
   "name": "python",
   "nbconvert_exporter": "python",
   "pygments_lexer": "ipython3",
   "version": "3.7.6"
  }
 },
 "nbformat": 4,
 "nbformat_minor": 4
}

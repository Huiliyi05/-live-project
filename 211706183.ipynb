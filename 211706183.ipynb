{
 "cells": [
  {
   "cell_type": "code",
   "execution_count": 24,
   "metadata": {},
   "outputs": [],
   "source": [
    "\n",
    "import tkinter as tk\n",
    "import tkinter.messagebox as mbox\n",
    " \n",
    "\n",
    "class MainUI(tk.Frame):\n",
    "# Application构造函数，master为窗口的父控件\n",
    " def __init__(self, master = None):\n",
    "# 初始化Application的Frame部分 \n",
    "  tk.Frame.__init__(self, master)\n",
    "# 显示窗口，并使用grid布局\n",
    "  self.grid()\n",
    "# 创建控件\n",
    "  self.createWidgets()\n",
    " \n"
   ]
  },
  {
   "cell_type": "code",
   "execution_count": 25,
   "metadata": {},
   "outputs": [],
   "source": [
    "# 创建控件\n",
    "def createWidgets(self):\n",
    "# 创建一个标签，输出要显示的内容（更多Python学习资料加群631441315）\n",
    " self.firstLabel = tk.Label(self,text=\"「人人都是Pythonista」专注Python领域，做最专业的Python星球。\")\n",
    "# 设定使用grid布局\n",
    " self.firstLabel.grid()\n",
    "# 创建一个按钮，用来触发answer方法\n",
    " self.clickButton = tk.Button(self,text=\"点一下瞧瞧？\",command=self.answer)\n",
    "# 设定使用grid布局\n",
    " self.clickButton.grid()"
   ]
  },
  {
   "cell_type": "code",
   "execution_count": 26,
   "metadata": {},
   "outputs": [],
   "source": [
    "def answer(self):\n",
    "# 我们通过 messagebox 来显示一个提示框\n",
    " mbox.showinfo(\"「人人都是Pythonista」\",'''这是一个专注Python的星球，''')"
   ]
  },
  {
   "cell_type": "code",
   "execution_count": 27,
   "metadata": {},
   "outputs": [
    {
     "ename": "AttributeError",
     "evalue": "'MainUI' object has no attribute 'createWidgets'",
     "output_type": "error",
     "traceback": [
      "\u001b[1;31m---------------------------------------------------------------------------\u001b[0m",
      "\u001b[1;31mAttributeError\u001b[0m                            Traceback (most recent call last)",
      "\u001b[1;32m<ipython-input-27-b8cc78e5cb2d>\u001b[0m in \u001b[0;36m<module>\u001b[1;34m()\u001b[0m\n\u001b[0;32m      1\u001b[0m \u001b[1;33m\u001b[0m\u001b[0m\n\u001b[0;32m      2\u001b[0m \u001b[1;31m# 创建一个MainUI对象\u001b[0m\u001b[1;33m\u001b[0m\u001b[1;33m\u001b[0m\u001b[0m\n\u001b[1;32m----> 3\u001b[1;33m \u001b[0mapp\u001b[0m \u001b[1;33m=\u001b[0m \u001b[0mMainUI\u001b[0m\u001b[1;33m(\u001b[0m\u001b[1;33m)\u001b[0m\u001b[1;33m\u001b[0m\u001b[0m\n\u001b[0m\u001b[0;32m      4\u001b[0m \u001b[1;31m# 设置窗口标题\u001b[0m\u001b[1;33m\u001b[0m\u001b[1;33m\u001b[0m\u001b[0m\n\u001b[0;32m      5\u001b[0m \u001b[0mapp\u001b[0m\u001b[1;33m.\u001b[0m\u001b[0mmaster\u001b[0m\u001b[1;33m.\u001b[0m\u001b[0mtitle\u001b[0m\u001b[1;33m(\u001b[0m\u001b[1;34m'「人人都是Pythonista」'\u001b[0m\u001b[1;33m)\u001b[0m\u001b[1;33m\u001b[0m\u001b[0m\n",
      "\u001b[1;32m<ipython-input-24-ead3d0b870a3>\u001b[0m in \u001b[0;36m__init__\u001b[1;34m(self, master)\u001b[0m\n\u001b[0;32m     12\u001b[0m   \u001b[0mself\u001b[0m\u001b[1;33m.\u001b[0m\u001b[0mgrid\u001b[0m\u001b[1;33m(\u001b[0m\u001b[1;33m)\u001b[0m\u001b[1;33m\u001b[0m\u001b[0m\n\u001b[0;32m     13\u001b[0m \u001b[1;31m# 创建控件\u001b[0m\u001b[1;33m\u001b[0m\u001b[1;33m\u001b[0m\u001b[0m\n\u001b[1;32m---> 14\u001b[1;33m   \u001b[0mself\u001b[0m\u001b[1;33m.\u001b[0m\u001b[0mcreateWidgets\u001b[0m\u001b[1;33m(\u001b[0m\u001b[1;33m)\u001b[0m\u001b[1;33m\u001b[0m\u001b[0m\n\u001b[0m\u001b[0;32m     15\u001b[0m \u001b[1;33m\u001b[0m\u001b[0m\n",
      "\u001b[1;31mAttributeError\u001b[0m: 'MainUI' object has no attribute 'createWidgets'"
     ]
    }
   ],
   "source": [
    " \n",
    "# 创建一个MainUI对象\n",
    "app = MainUI()\n",
    "# 设置窗口标题\n",
    "app.master.title('「人人都是Pythonista」')\n",
    "# 设置窗体大小\n",
    "app.master.geometry('400x100')\n",
    "# 主循环开始\n",
    "app.mainloop()"
   ]
  },
  {
   "cell_type": "code",
   "execution_count": null,
   "metadata": {},
   "outputs": [],
   "source": []
  },
  {
   "cell_type": "code",
   "execution_count": null,
   "metadata": {},
   "outputs": [],
   "source": []
  }
 ],
 "metadata": {
  "kernelspec": {
   "display_name": "Python 3",
   "language": "python",
   "name": "python3"
  },
  "language_info": {
   "codemirror_mode": {
    "name": "ipython",
    "version": 3
   },
   "file_extension": ".py",
   "mimetype": "text/x-python",
   "name": "python",
   "nbconvert_exporter": "python",
   "pygments_lexer": "ipython3",
   "version": "3.7.0"
  }
 },
 "nbformat": 4,
 "nbformat_minor": 2
}

{
 "cells": [
  {
   "cell_type": "code",
   "execution_count": 48,
   "metadata": {},
   "outputs": [],
   "source": [
    "\n",
    "import tkinter as tk\n",
    "import tkinter.messagebox as mbox\n",
    " \n",
    "\n",
    "class MainUI(tk.Frame):\n",
    "# Application构造函数，master为窗口的父控件\n",
    " def __init__(self, master = None):\n",
    "# 初始化Application的Frame部分 \n",
    "  tk.Frame.__init__(self, master)\n",
    "# 显示窗口，并使用grid布局\n",
    "  self.grid()\n",
    "# 创建控件\n",
    "  self.createWidgets()\n",
    " # 创建控件\n",
    " def createWidgets(self):\n",
    "# 创建一个标签，输出要显示的内容（更多Python学习资料加群631441315）\n",
    "  self.firstLabel = tk.Label(self,text=\"登记姓名、学号和进入时间\")\n",
    "# 设定使用grid布局\n",
    "  self.firstLabel.grid()\n",
    "# 创建一个按钮，用来触发answer方法\n",
    "  self.clickButton = tk.Button(self,text=\"进入\",command=self.answer)\n",
    "# 设定使用grid布局\n",
    "  self.clickButton.grid()\n",
    " def answer(self):\n",
    "# 我们通过 messagebox 来显示一个提示框\n",
    "   mbox.showinfo(\"「校园人口调查」\",'''学校人员+1''')"
   ]
  },
  {
   "cell_type": "code",
   "execution_count": 49,
   "metadata": {},
   "outputs": [],
   "source": [
    " \n",
    "# 创建一个MainUI对象\n",
    "app = MainUI()\n",
    "# 设置窗口标题\n",
    "app.master.title('「校园人口调查」')\n",
    "# 设置窗体大小\n",
    "app.master.geometry('300x200')\n",
    "# 主循环开始\n",
    "app.mainloop()"
   ]
  },
  {
   "cell_type": "code",
   "execution_count": null,
   "metadata": {},
   "outputs": [],
   "source": []
  }
 ],
 "metadata": {
  "kernelspec": {
   "display_name": "Python 3",
   "language": "python",
   "name": "python3"
  },
  "language_info": {
   "codemirror_mode": {
    "name": "ipython",
    "version": 3
   },
   "file_extension": ".py",
   "mimetype": "text/x-python",
   "name": "python",
   "nbconvert_exporter": "python",
   "pygments_lexer": "ipython3",
   "version": "3.7.0"
  }
 },
 "nbformat": 4,
 "nbformat_minor": 2
}

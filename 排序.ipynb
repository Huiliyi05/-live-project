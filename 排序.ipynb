{
 "cells": [
  {
   "cell_type": "code",
   "execution_count": 1,
   "metadata": {},
   "outputs": [],
   "source": [
    "import numpy as np\n",
    "import pandas as pd\n",
    "import warnings\n",
    "warnings.filterwarnings(\"ignore\")\n",
    "import seaborn as sns\n",
    "import matplotlib.pyplot as plt\n",
    "import datetime as dt\n",
    "%matplotlib inline"
   ]
  },
  {
   "cell_type": "code",
   "execution_count": 2,
   "metadata": {},
   "outputs": [
    {
     "data": {
      "text/html": [
       "<div>\n",
       "<style scoped>\n",
       "    .dataframe tbody tr th:only-of-type {\n",
       "        vertical-align: middle;\n",
       "    }\n",
       "\n",
       "    .dataframe tbody tr th {\n",
       "        vertical-align: top;\n",
       "    }\n",
       "\n",
       "    .dataframe thead th {\n",
       "        text-align: right;\n",
       "    }\n",
       "</style>\n",
       "<table border=\"1\" class=\"dataframe\">\n",
       "  <thead>\n",
       "    <tr style=\"text-align: right;\">\n",
       "      <th></th>\n",
       "      <th>name</th>\n",
       "      <th>sno</th>\n",
       "      <th>enter_time</th>\n",
       "      <th>exit_time</th>\n",
       "    </tr>\n",
       "  </thead>\n",
       "  <tbody>\n",
       "    <tr>\n",
       "      <th>0</th>\n",
       "      <td>Cxy</td>\n",
       "      <td>729.0</td>\n",
       "      <td>2020-04-08 20:34:51</td>\n",
       "      <td>NaN</td>\n",
       "    </tr>\n",
       "    <tr>\n",
       "      <th>1</th>\n",
       "      <td>Lsj</td>\n",
       "      <td>225.0</td>\n",
       "      <td>2020-04-08 20:34:57</td>\n",
       "      <td>NaN</td>\n",
       "    </tr>\n",
       "    <tr>\n",
       "      <th>2</th>\n",
       "      <td>Cxk</td>\n",
       "      <td>802.0</td>\n",
       "      <td>2020-04-08 20:35:03</td>\n",
       "      <td>NaN</td>\n",
       "    </tr>\n",
       "    <tr>\n",
       "      <th>3</th>\n",
       "      <td>chy</td>\n",
       "      <td>407.0</td>\n",
       "      <td>2020-04-08 20:57:19</td>\n",
       "      <td>NaN</td>\n",
       "    </tr>\n",
       "    <tr>\n",
       "      <th>4</th>\n",
       "      <td>cjg</td>\n",
       "      <td>418.0</td>\n",
       "      <td>2020-04-08 21:10:25</td>\n",
       "      <td>NaN</td>\n",
       "    </tr>\n",
       "    <tr>\n",
       "      <th>5</th>\n",
       "      <td>lx</td>\n",
       "      <td>1019.0</td>\n",
       "      <td>2020-04-08 21:12:08</td>\n",
       "      <td>NaN</td>\n",
       "    </tr>\n",
       "  </tbody>\n",
       "</table>\n",
       "</div>"
      ],
      "text/plain": [
       "  name     sno           enter_time  exit_time\n",
       "0  Cxy   729.0  2020-04-08 20:34:51        NaN\n",
       "1  Lsj   225.0  2020-04-08 20:34:57        NaN\n",
       "2  Cxk   802.0  2020-04-08 20:35:03        NaN\n",
       "3  chy   407.0  2020-04-08 20:57:19        NaN\n",
       "4  cjg   418.0  2020-04-08 21:10:25        NaN\n",
       "5   lx  1019.0  2020-04-08 21:12:08        NaN"
      ]
     },
     "execution_count": 2,
     "metadata": {},
     "output_type": "execute_result"
    }
   ],
   "source": [
    "df=pd.read_csv(\"guest.csv\",sep=',')\n",
    "df"
   ]
  },
  {
   "cell_type": "code",
   "execution_count": 3,
   "metadata": {},
   "outputs": [],
   "source": [
    "def search(df):\n",
    "    c = input('Please enter the number>>>')\n",
    "    c = int(c)\n",
    "    for a in range(0,c):\n",
    "        exit_time = dt.datetime.now().strftime('%F %T')\n",
    "        sno = input('Please enter your sno>>>')\n",
    "        df.loc[df['sno']==sno,'exit_time']=exit_time"
   ]
  },
  {
   "cell_type": "code",
   "execution_count": 5,
   "metadata": {},
   "outputs": [
    {
     "name": "stdout",
     "output_type": "stream",
     "text": [
      "Please enter the number>>>2\n",
      "Please enter your sno>>>729\n",
      "Please enter your sno>>>802\n"
     ]
    }
   ],
   "source": [
    "search(df)"
   ]
  },
  {
   "cell_type": "code",
   "execution_count": 6,
   "metadata": {},
   "outputs": [
    {
     "data": {
      "text/html": [
       "<div>\n",
       "<style scoped>\n",
       "    .dataframe tbody tr th:only-of-type {\n",
       "        vertical-align: middle;\n",
       "    }\n",
       "\n",
       "    .dataframe tbody tr th {\n",
       "        vertical-align: top;\n",
       "    }\n",
       "\n",
       "    .dataframe thead th {\n",
       "        text-align: right;\n",
       "    }\n",
       "</style>\n",
       "<table border=\"1\" class=\"dataframe\">\n",
       "  <thead>\n",
       "    <tr style=\"text-align: right;\">\n",
       "      <th></th>\n",
       "      <th>name</th>\n",
       "      <th>sno</th>\n",
       "      <th>enter_time</th>\n",
       "      <th>exit_time</th>\n",
       "    </tr>\n",
       "  </thead>\n",
       "  <tbody>\n",
       "    <tr>\n",
       "      <th>0</th>\n",
       "      <td>Cxy</td>\n",
       "      <td>729.0</td>\n",
       "      <td>2020-04-08 20:34:51</td>\n",
       "      <td>2020-04-08 21:21:15</td>\n",
       "    </tr>\n",
       "    <tr>\n",
       "      <th>1</th>\n",
       "      <td>Lsj</td>\n",
       "      <td>225.0</td>\n",
       "      <td>2020-04-08 20:34:57</td>\n",
       "      <td>NaN</td>\n",
       "    </tr>\n",
       "    <tr>\n",
       "      <th>2</th>\n",
       "      <td>Cxk</td>\n",
       "      <td>802.0</td>\n",
       "      <td>2020-04-08 20:35:03</td>\n",
       "      <td>2020-04-08 21:21:17</td>\n",
       "    </tr>\n",
       "    <tr>\n",
       "      <th>3</th>\n",
       "      <td>chy</td>\n",
       "      <td>407.0</td>\n",
       "      <td>2020-04-08 20:57:19</td>\n",
       "      <td>NaN</td>\n",
       "    </tr>\n",
       "    <tr>\n",
       "      <th>4</th>\n",
       "      <td>cjg</td>\n",
       "      <td>418.0</td>\n",
       "      <td>2020-04-08 21:10:25</td>\n",
       "      <td>NaN</td>\n",
       "    </tr>\n",
       "    <tr>\n",
       "      <th>5</th>\n",
       "      <td>lx</td>\n",
       "      <td>1019.0</td>\n",
       "      <td>2020-04-08 21:12:08</td>\n",
       "      <td>NaN</td>\n",
       "    </tr>\n",
       "  </tbody>\n",
       "</table>\n",
       "</div>"
      ],
      "text/plain": [
       "  name     sno           enter_time            exit_time\n",
       "0  Cxy   729.0  2020-04-08 20:34:51  2020-04-08 21:21:15\n",
       "1  Lsj   225.0  2020-04-08 20:34:57                  NaN\n",
       "2  Cxk   802.0  2020-04-08 20:35:03  2020-04-08 21:21:17\n",
       "3  chy   407.0  2020-04-08 20:57:19                  NaN\n",
       "4  cjg   418.0  2020-04-08 21:10:25                  NaN\n",
       "5   lx  1019.0  2020-04-08 21:12:08                  NaN"
      ]
     },
     "execution_count": 6,
     "metadata": {},
     "output_type": "execute_result"
    }
   ],
   "source": [
    "df"
   ]
  },
  {
   "cell_type": "code",
   "execution_count": 7,
   "metadata": {},
   "outputs": [
    {
     "data": {
      "text/html": [
       "<div>\n",
       "<style scoped>\n",
       "    .dataframe tbody tr th:only-of-type {\n",
       "        vertical-align: middle;\n",
       "    }\n",
       "\n",
       "    .dataframe tbody tr th {\n",
       "        vertical-align: top;\n",
       "    }\n",
       "\n",
       "    .dataframe thead th {\n",
       "        text-align: right;\n",
       "    }\n",
       "</style>\n",
       "<table border=\"1\" class=\"dataframe\">\n",
       "  <thead>\n",
       "    <tr style=\"text-align: right;\">\n",
       "      <th></th>\n",
       "      <th>name</th>\n",
       "      <th>sno</th>\n",
       "      <th>enter_time</th>\n",
       "      <th>exit_time</th>\n",
       "    </tr>\n",
       "  </thead>\n",
       "  <tbody>\n",
       "    <tr>\n",
       "      <th>1</th>\n",
       "      <td>Lsj</td>\n",
       "      <td>225.0</td>\n",
       "      <td>2020-04-08 20:34:57</td>\n",
       "      <td>NaN</td>\n",
       "    </tr>\n",
       "    <tr>\n",
       "      <th>3</th>\n",
       "      <td>chy</td>\n",
       "      <td>407.0</td>\n",
       "      <td>2020-04-08 20:57:19</td>\n",
       "      <td>NaN</td>\n",
       "    </tr>\n",
       "    <tr>\n",
       "      <th>4</th>\n",
       "      <td>cjg</td>\n",
       "      <td>418.0</td>\n",
       "      <td>2020-04-08 21:10:25</td>\n",
       "      <td>NaN</td>\n",
       "    </tr>\n",
       "    <tr>\n",
       "      <th>0</th>\n",
       "      <td>Cxy</td>\n",
       "      <td>729.0</td>\n",
       "      <td>2020-04-08 20:34:51</td>\n",
       "      <td>2020-04-08 21:21:15</td>\n",
       "    </tr>\n",
       "    <tr>\n",
       "      <th>2</th>\n",
       "      <td>Cxk</td>\n",
       "      <td>802.0</td>\n",
       "      <td>2020-04-08 20:35:03</td>\n",
       "      <td>2020-04-08 21:21:17</td>\n",
       "    </tr>\n",
       "    <tr>\n",
       "      <th>5</th>\n",
       "      <td>lx</td>\n",
       "      <td>1019.0</td>\n",
       "      <td>2020-04-08 21:12:08</td>\n",
       "      <td>NaN</td>\n",
       "    </tr>\n",
       "  </tbody>\n",
       "</table>\n",
       "</div>"
      ],
      "text/plain": [
       "  name     sno           enter_time            exit_time\n",
       "1  Lsj   225.0  2020-04-08 20:34:57                  NaN\n",
       "3  chy   407.0  2020-04-08 20:57:19                  NaN\n",
       "4  cjg   418.0  2020-04-08 21:10:25                  NaN\n",
       "0  Cxy   729.0  2020-04-08 20:34:51  2020-04-08 21:21:15\n",
       "2  Cxk   802.0  2020-04-08 20:35:03  2020-04-08 21:21:17\n",
       "5   lx  1019.0  2020-04-08 21:12:08                  NaN"
      ]
     },
     "execution_count": 7,
     "metadata": {},
     "output_type": "execute_result"
    }
   ],
   "source": [
    "df.sort_values(['sno'])"
   ]
  },
  {
   "cell_type": "code",
   "execution_count": null,
   "metadata": {},
   "outputs": [],
   "source": []
  }
 ],
 "metadata": {
  "kernelspec": {
   "display_name": "Python 3",
   "language": "python",
   "name": "python3"
  },
  "language_info": {
   "codemirror_mode": {
    "name": "ipython",
    "version": 3
   },
   "file_extension": ".py",
   "mimetype": "text/x-python",
   "name": "python",
   "nbconvert_exporter": "python",
   "pygments_lexer": "ipython3",
   "version": "3.7.6"
  }
 },
 "nbformat": 4,
 "nbformat_minor": 4
}

{
 "cells": [
  {
   "cell_type": "code",
   "execution_count": 3,
   "metadata": {},
   "outputs": [
    {
     "name": "stdout",
     "output_type": "stream",
     "text": [
      "Enter 'quit' when you are finished\n",
      "\n",
      "Please enter your name>>>cxy\n",
      "Please enter your sno>>>211706106\n",
      "Please enter your time>>>12:30\n",
      "Welcome,Cxy\n",
      "Do you want to continue? y/n>>>y\n",
      "Please enter your name>>>lsj\n",
      "Please enter your sno>>>211706159\n",
      "Please enter your time>>>12:00\n",
      "Welcome,Lsj\n",
      "Do you want to continue? y/n>>>n\n"
     ]
    }
   ],
   "source": [
    "print(\"Enter 'quit' when you are finished\\n\")\n",
    "filename = 'guest1.txt'\n",
    "while True:\n",
    "    name = input('Please enter your name>>>')\n",
    "    sno = input('Please enter your sno>>>')\n",
    "    time = input('Please enter your time>>>')\n",
    "    if name == 'quit':\n",
    "        break\n",
    "    else:\n",
    "        with open(filename,'a') as file:\n",
    "            file.write(name.title()+'\\n')#将访客写入的名字改为首字母大写\n",
    "        print('Welcome,'+name.title())\n",
    "        dicision = input('Do you want to continue? y/n>>>')\n",
    "        if dicision == 'n':\n",
    "            break"
   ]
  },
  {
   "cell_type": "code",
   "execution_count": 1,
   "metadata": {},
   "outputs": [
    {
     "name": "stdout",
     "output_type": "stream",
     "text": [
      "Enter 'quit' when you are finished\n",
      "\n",
      "Please enter your sno>>>211706106\n",
      "Welcome,211706106\n",
      "Do you want to continue? y/n>>>y\n",
      "Please enter your sno>>>211706159\n",
      "Welcome,211706159\n",
      "Do you want to continue? y/n>>>quit\n",
      "Please enter your sno>>>quit\n"
     ]
    }
   ],
   "source": [
    "print(\"Enter 'quit' when you are finished\\n\")\n",
    "filename = 'guest.txt'\n",
    "while True:\n",
    "    \n",
    "    if sno == 'quit':\n",
    "        break\n",
    "    else:\n",
    "        with open(filename,'a') as file:\n",
    "            file.write(sno.title()+'\\n')#将访客写入的名字改为首字母大写\n",
    "        print('Welcome,'+sno.title())\n",
    "        dicision = input('Do you want to continue? y/n>>>')\n",
    "        if dicision == 'n':\n",
    "            break\n"
   ]
  },
  {
   "cell_type": "code",
   "execution_count": null,
   "metadata": {},
   "outputs": [],
   "source": []
  }
 ],
 "metadata": {
  "kernelspec": {
   "display_name": "Python 3",
   "language": "python",
   "name": "python3"
  },
  "language_info": {
   "codemirror_mode": {
    "name": "ipython",
    "version": 3
   },
   "file_extension": ".py",
   "mimetype": "text/x-python",
   "name": "python",
   "nbconvert_exporter": "python",
   "pygments_lexer": "ipython3",
   "version": "3.7.6"
  }
 },
 "nbformat": 4,
 "nbformat_minor": 4
}

{
 "cells": [
  {
   "cell_type": "code",
   "execution_count": 1,
   "metadata": {},
   "outputs": [
    {
     "name": "stdout",
     "output_type": "stream",
     "text": [
      "Enter 'quit' when you are finished\n",
      "\n",
      "Please enter your name>>>zyl\n",
      "Please enter your student number>>>211706159\n",
      "\n",
      "Welcome,Zyl\n",
      "Do you want to continue? y/n>>>n\n"
     ]
    }
   ],
   "source": [
    "import datetime as dt\n",
    "print(\"Enter 'quit' when you are finished\\n\")\n",
    "\n",
    "filename = 'guest.txt'\n",
    "while True:\n",
    "    name = input('Please enter your name>>>')\n",
    "    if name == 'quit':\n",
    "        break\n",
    "    else:\n",
    "        number = input('Please enter your student number>>>')\n",
    "        now_time = dt.datetime.now().strftime('%F %T')# 获取当前时间\n",
    "        print()\n",
    "        with open(filename,'a') as file:\n",
    "            file.write('姓名：'+name.title()+'   学号: '+number+'   进入时间：  ' + now_time+'\\n')#将访客写入的名字改为首字母大写\n",
    "        print('Welcome,'+name.title())\n",
    "        dicision = input('Do you want to continue? y/n>>>')\n",
    "        if dicision == 'n':\n",
    "            break"
   ]
  },
  {
   "cell_type": "code",
   "execution_count": null,
   "metadata": {},
   "outputs": [],
   "source": [
    "sno = input('Please enter your student number>>>')\n",
    "df.drop(index=(df.loc[(df['number']==sno)].index))\n",
    "filename = 'guest.csv'\n",
    "with open(filename,'a') as file:\n",
    "    exit_time = dt.datetime.now().strftime('%F %T')# 获取当前时间"
   ]
  },
  {
   "cell_type": "code",
   "execution_count": null,
   "metadata": {},
   "outputs": [],
   "source": [
    "import datetime as dt\n",
    "exit_time = dt.datetime.now().strftime('%F %T')# 获取当前时间\n",
    "df.loc[df.sno=211706159,'exit-time'] = exit_time"
   ]
  }
 ],
 "metadata": {
  "kernelspec": {
   "display_name": "Python 3",
   "language": "python",
   "name": "python3"
  },
  "language_info": {
   "codemirror_mode": {
    "name": "ipython",
    "version": 3
   },
   "file_extension": ".py",
   "mimetype": "text/x-python",
   "name": "python",
   "nbconvert_exporter": "python",
   "pygments_lexer": "ipython3",
   "version": "3.7.4"
  }
 },
 "nbformat": 4,
 "nbformat_minor": 2
}

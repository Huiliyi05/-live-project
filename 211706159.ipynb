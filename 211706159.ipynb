{
 "cells": [
  {
   "cell_type": "code",
   "execution_count": 1,
   "metadata": {},
   "outputs": [
    {
     "name": "stdout",
     "output_type": "stream",
     "text": [
      "Enter 'quit' when you are finished\n",
      "\n",
      "Please enter your name>>>zhu\n",
      "Please enter your student number>>>159\n",
      "\n",
      "Welcome,Zhu\n",
      "Do you want to continue? y/n>>>y\n",
      "Please enter your name>>>ying\n",
      "Please enter your student number>>>106\n",
      "\n",
      "Welcome,Ying\n",
      "Do you want to continue? y/n>>>y\n",
      "Please enter your name>>>jin\n",
      "Please enter your student number>>>179\n",
      "\n",
      "Welcome,Jin\n",
      "Do you want to continue? y/n>>>y\n",
      "Please enter your name>>>hui\n",
      "Please enter your student number>>>204\n",
      "\n",
      "Welcome,Hui\n",
      "Do you want to continue? y/n>>>n\n"
     ]
    }
   ],
   "source": [
    "# 引入函数库\n",
    "import datetime as dt\n",
    "print(\"Enter 'quit' when you are finished\\n\")\n",
    "filename = 'guest.csv'\n",
    "with open(filename,'a') as file:\n",
    "    file.write('id,name,come_time,exit_time'+'\\n')\n",
    "while True:\n",
    "    name = input('Please enter your name>>>')\n",
    "    if name == 'quit':\n",
    "        break\n",
    "    else:\n",
    "        number = input('Please enter your student number>>>')\n",
    "        # 获取当前时间\n",
    "        now_time = dt.datetime.now().strftime('%F %T')\n",
    "        with open(filename,'a') as file:\n",
    "            file.write(number+','+name.title()+',' + now_time+'\\n')#将访客写入的名字改为首字母大写\n",
    "        print('Welcome,'+name.title())\n",
    "        dicision = input('Do you want to continue? y/n>>>')\n",
    "        if dicision == 'n':\n",
    "            break"
   ]
  },
  {
   "cell_type": "code",
   "execution_count": 2,
   "metadata": {},
   "outputs": [],
   "source": [
    "import numpy as np\n",
    "import pandas as pd\n",
    "import warnings\n",
    "warnings.filterwarnings(\"ignore\")\n",
    "import seaborn as sns\n",
    "import matplotlib.pyplot as plt\n",
    "%matplotlib inline\n",
    "from pandas import Series,DataFrame"
   ]
  },
  {
   "cell_type": "code",
   "execution_count": 3,
   "metadata": {},
   "outputs": [
    {
     "data": {
      "text/html": [
       "<div>\n",
       "<style scoped>\n",
       "    .dataframe tbody tr th:only-of-type {\n",
       "        vertical-align: middle;\n",
       "    }\n",
       "\n",
       "    .dataframe tbody tr th {\n",
       "        vertical-align: top;\n",
       "    }\n",
       "\n",
       "    .dataframe thead th {\n",
       "        text-align: right;\n",
       "    }\n",
       "</style>\n",
       "<table border=\"1\" class=\"dataframe\">\n",
       "  <thead>\n",
       "    <tr style=\"text-align: right;\">\n",
       "      <th></th>\n",
       "      <th>name</th>\n",
       "      <th>id</th>\n",
       "      <th>come_time</th>\n",
       "      <th>exit_time</th>\n",
       "    </tr>\n",
       "  </thead>\n",
       "  <tbody>\n",
       "    <tr>\n",
       "      <td>0</td>\n",
       "      <td>Zhu</td>\n",
       "      <td>159</td>\n",
       "      <td>2020-04-08 18:03:57</td>\n",
       "      <td>NaN</td>\n",
       "    </tr>\n",
       "    <tr>\n",
       "      <td>1</td>\n",
       "      <td>Ying</td>\n",
       "      <td>106</td>\n",
       "      <td>2020-04-08 18:04:06</td>\n",
       "      <td>NaN</td>\n",
       "    </tr>\n",
       "    <tr>\n",
       "      <td>2</td>\n",
       "      <td>Jin</td>\n",
       "      <td>179</td>\n",
       "      <td>2020-04-08 18:04:15</td>\n",
       "      <td>NaN</td>\n",
       "    </tr>\n",
       "    <tr>\n",
       "      <td>3</td>\n",
       "      <td>Hui</td>\n",
       "      <td>204</td>\n",
       "      <td>2020-04-08 18:04:25</td>\n",
       "      <td>NaN</td>\n",
       "    </tr>\n",
       "  </tbody>\n",
       "</table>\n",
       "</div>"
      ],
      "text/plain": [
       "   name   id            come_time  exit_time\n",
       "0   Zhu  159  2020-04-08 18:03:57        NaN\n",
       "1  Ying  106  2020-04-08 18:04:06        NaN\n",
       "2   Jin  179  2020-04-08 18:04:15        NaN\n",
       "3   Hui  204  2020-04-08 18:04:25        NaN"
      ]
     },
     "execution_count": 3,
     "metadata": {},
     "output_type": "execute_result"
    }
   ],
   "source": [
    "df=pd.read_csv(\"guest.csv\",sep=',')\n",
    "df"
   ]
  },
  {
   "cell_type": "code",
   "execution_count": 4,
   "metadata": {},
   "outputs": [],
   "source": [
    "def search(df):\n",
    "    sno = input('Please enter your id>>>')\n",
    "    sno = int(sno)\n",
    "    info = df[df['id'] == sno]\n",
    "    print(info)"
   ]
  },
  {
   "cell_type": "code",
   "execution_count": 40,
   "metadata": {},
   "outputs": [
    {
     "name": "stdout",
     "output_type": "stream",
     "text": [
      "Please enter your id>>>546\n",
      "Empty DataFrame\n",
      "Columns: [name, id, come_time, exit_time]\n",
      "Index: []\n"
     ]
    }
   ],
   "source": [
    "search(df)"
   ]
  },
  {
   "cell_type": "code",
   "execution_count": 16,
   "metadata": {},
   "outputs": [],
   "source": [
    "import datetime as dt\n",
    "def exit(df):\n",
    "    sno = input('Please enter your id>>>')\n",
    "    sno = int(sno)\n",
    "    exit_time = dt.datetime.now().strftime('%F %T')# 获取当前时间\n",
    "    df.loc[(df[\"id\"] == sno), \"exit_time\"] = exit_time"
   ]
  },
  {
   "cell_type": "code",
   "execution_count": 22,
   "metadata": {},
   "outputs": [
    {
     "name": "stdout",
     "output_type": "stream",
     "text": [
      "Please enter your id>>>106\n"
     ]
    }
   ],
   "source": [
    "exit(df)"
   ]
  },
  {
   "cell_type": "code",
   "execution_count": 23,
   "metadata": {},
   "outputs": [
    {
     "data": {
      "text/html": [
       "<div>\n",
       "<style scoped>\n",
       "    .dataframe tbody tr th:only-of-type {\n",
       "        vertical-align: middle;\n",
       "    }\n",
       "\n",
       "    .dataframe tbody tr th {\n",
       "        vertical-align: top;\n",
       "    }\n",
       "\n",
       "    .dataframe thead th {\n",
       "        text-align: right;\n",
       "    }\n",
       "</style>\n",
       "<table border=\"1\" class=\"dataframe\">\n",
       "  <thead>\n",
       "    <tr style=\"text-align: right;\">\n",
       "      <th></th>\n",
       "      <th>name</th>\n",
       "      <th>id</th>\n",
       "      <th>come_time</th>\n",
       "      <th>exit_time</th>\n",
       "    </tr>\n",
       "  </thead>\n",
       "  <tbody>\n",
       "    <tr>\n",
       "      <td>0</td>\n",
       "      <td>Zhu</td>\n",
       "      <td>159</td>\n",
       "      <td>2020-04-08 18:03:57</td>\n",
       "      <td>2020-04-08 18:12:44</td>\n",
       "    </tr>\n",
       "    <tr>\n",
       "      <td>1</td>\n",
       "      <td>Ying</td>\n",
       "      <td>106</td>\n",
       "      <td>2020-04-08 18:04:06</td>\n",
       "      <td>2020-04-08 18:17:45</td>\n",
       "    </tr>\n",
       "    <tr>\n",
       "      <td>2</td>\n",
       "      <td>Jin</td>\n",
       "      <td>179</td>\n",
       "      <td>2020-04-08 18:04:15</td>\n",
       "      <td>2020-04-08 18:17:35</td>\n",
       "    </tr>\n",
       "    <tr>\n",
       "      <td>3</td>\n",
       "      <td>Hui</td>\n",
       "      <td>204</td>\n",
       "      <td>2020-04-08 18:04:25</td>\n",
       "      <td>2020-04-08 18:16:56</td>\n",
       "    </tr>\n",
       "  </tbody>\n",
       "</table>\n",
       "</div>"
      ],
      "text/plain": [
       "   name   id            come_time            exit_time\n",
       "0   Zhu  159  2020-04-08 18:03:57  2020-04-08 18:12:44\n",
       "1  Ying  106  2020-04-08 18:04:06  2020-04-08 18:17:45\n",
       "2   Jin  179  2020-04-08 18:04:15  2020-04-08 18:17:35\n",
       "3   Hui  204  2020-04-08 18:04:25  2020-04-08 18:16:56"
      ]
     },
     "execution_count": 23,
     "metadata": {},
     "output_type": "execute_result"
    }
   ],
   "source": [
    "df"
   ]
  },
  {
   "cell_type": "code",
   "execution_count": 39,
   "metadata": {},
   "outputs": [
    {
     "data": {
      "text/html": [
       "<div>\n",
       "<style scoped>\n",
       "    .dataframe tbody tr th:only-of-type {\n",
       "        vertical-align: middle;\n",
       "    }\n",
       "\n",
       "    .dataframe tbody tr th {\n",
       "        vertical-align: top;\n",
       "    }\n",
       "\n",
       "    .dataframe thead th {\n",
       "        text-align: right;\n",
       "    }\n",
       "</style>\n",
       "<table border=\"1\" class=\"dataframe\">\n",
       "  <thead>\n",
       "    <tr style=\"text-align: right;\">\n",
       "      <th></th>\n",
       "      <th>name</th>\n",
       "      <th>id</th>\n",
       "      <th>come_time</th>\n",
       "      <th>exit_time</th>\n",
       "    </tr>\n",
       "  </thead>\n",
       "  <tbody>\n",
       "    <tr>\n",
       "      <td>1</td>\n",
       "      <td>Ying</td>\n",
       "      <td>106</td>\n",
       "      <td>2020-04-08 18:04:06</td>\n",
       "      <td>2020-04-08 18:17:45</td>\n",
       "    </tr>\n",
       "    <tr>\n",
       "      <td>0</td>\n",
       "      <td>Zhu</td>\n",
       "      <td>159</td>\n",
       "      <td>2020-04-08 18:03:57</td>\n",
       "      <td>2020-04-08 18:12:44</td>\n",
       "    </tr>\n",
       "    <tr>\n",
       "      <td>2</td>\n",
       "      <td>Jin</td>\n",
       "      <td>179</td>\n",
       "      <td>2020-04-08 18:04:15</td>\n",
       "      <td>2020-04-08 18:17:35</td>\n",
       "    </tr>\n",
       "    <tr>\n",
       "      <td>3</td>\n",
       "      <td>Hui</td>\n",
       "      <td>204</td>\n",
       "      <td>2020-04-08 18:04:25</td>\n",
       "      <td>2020-04-08 18:16:56</td>\n",
       "    </tr>\n",
       "  </tbody>\n",
       "</table>\n",
       "</div>"
      ],
      "text/plain": [
       "   name   id            come_time            exit_time\n",
       "1  Ying  106  2020-04-08 18:04:06  2020-04-08 18:17:45\n",
       "0   Zhu  159  2020-04-08 18:03:57  2020-04-08 18:12:44\n",
       "2   Jin  179  2020-04-08 18:04:15  2020-04-08 18:17:35\n",
       "3   Hui  204  2020-04-08 18:04:25  2020-04-08 18:16:56"
      ]
     },
     "execution_count": 39,
     "metadata": {},
     "output_type": "execute_result"
    }
   ],
   "source": [
    "#显示当前记录列表里的所有同学信息，并根据学号排序\n",
    "show = df.sort_values(['id'])\n",
    "show"
   ]
  },
  {
   "cell_type": "code",
   "execution_count": null,
   "metadata": {},
   "outputs": [],
   "source": []
  }
 ],
 "metadata": {
  "kernelspec": {
   "display_name": "Python 3",
   "language": "python",
   "name": "python3"
  },
  "language_info": {
   "codemirror_mode": {
    "name": "ipython",
    "version": 3
   },
   "file_extension": ".py",
   "mimetype": "text/x-python",
   "name": "python",
   "nbconvert_exporter": "python",
   "pygments_lexer": "ipython3",
   "version": "3.7.4"
  }
 },
 "nbformat": 4,
 "nbformat_minor": 2
}
